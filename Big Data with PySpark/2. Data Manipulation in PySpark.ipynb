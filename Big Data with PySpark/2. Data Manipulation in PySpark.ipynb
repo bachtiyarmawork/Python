{
  "nbformat": 4,
  "nbformat_minor": 0,
  "metadata": {
    "colab": {
      "provenance": [],
      "toc_visible": true
    },
    "kernelspec": {
      "name": "python3",
      "display_name": "Python 3"
    },
    "language_info": {
      "name": "python"
    }
  },
  "cells": [
    {
      "cell_type": "markdown",
      "source": [
        "# **1. Overview**\n",
        "\n",
        "Data manipulation adalah proses mengubah atau memanipulasi data agar siap digunakan untuk analisis atau tujuan lainnya. Hal ini melibatkan pembersihan data, transformasi data, penggabungan data, pemfilteran data, dan pengurangan kompleksitas data. Data manipulation penting karena membantu memastikan keakuratan, kebersihan, dan kualitas data, sehingga memungkinkan pengambilan keputusan yang lebih baik dan analisis yang lebih efektif.\n",
        "\n",
        "Namun sebelum melakukan proses data manipulasi dengan PySpark, akan dilakukan set up dan ekstraksi data terlebih dahulu"
      ],
      "metadata": {
        "id": "VbJQAvFmMBGX"
      }
    },
    {
      "cell_type": "markdown",
      "source": [
        "# **2. First Step : Set Up**\n",
        "\n",
        "Langkah pertama untuk memulai spark adalah dengan melakukan *set-up* berikut :\n",
        "\n",
        "* Instalasi library spark\n",
        "* <i>Create</i> SparkSession\n",
        "* Konfigurasi dasar\n"
      ],
      "metadata": {
        "id": "nlFQ4rrjNCGs"
      }
    },
    {
      "cell_type": "code",
      "execution_count": null,
      "metadata": {
        "colab": {
          "base_uri": "https://localhost:8080/"
        },
        "id": "feys-p6zLAPj",
        "outputId": "82b8e2d2-700a-4817-83e4-4a2cd2653699"
      },
      "outputs": [
        {
          "output_type": "stream",
          "name": "stdout",
          "text": [
            "Collecting pyspark\n",
            "  Downloading pyspark-3.5.0.tar.gz (316.9 MB)\n",
            "\u001b[2K     \u001b[90m━━━━━━━━━━━━━━━━━━━━━━━━━━━━━━━━━━━━━━━━\u001b[0m \u001b[32m316.9/316.9 MB\u001b[0m \u001b[31m3.4 MB/s\u001b[0m eta \u001b[36m0:00:00\u001b[0m\n",
            "\u001b[?25h  Preparing metadata (setup.py) ... \u001b[?25l\u001b[?25hdone\n",
            "Requirement already satisfied: py4j==0.10.9.7 in /usr/local/lib/python3.10/dist-packages (from pyspark) (0.10.9.7)\n",
            "Building wheels for collected packages: pyspark\n",
            "  Building wheel for pyspark (setup.py) ... \u001b[?25l\u001b[?25hdone\n",
            "  Created wheel for pyspark: filename=pyspark-3.5.0-py2.py3-none-any.whl size=317425345 sha256=674d99347ad344d2b2321968f61a19bb0c5fcb4ce12c8d46279bd4e6ef99cd08\n",
            "  Stored in directory: /root/.cache/pip/wheels/41/4e/10/c2cf2467f71c678cfc8a6b9ac9241e5e44a01940da8fbb17fc\n",
            "Successfully built pyspark\n",
            "Installing collected packages: pyspark\n",
            "Successfully installed pyspark-3.5.0\n"
          ]
        }
      ],
      "source": [
        "# Instalasi library spark\n",
        "!pip install pyspark"
      ]
    },
    {
      "cell_type": "code",
      "source": [
        "# Import library\n",
        "from pyspark.sql import SparkSession\n",
        "\n",
        "# Proses pembuatan SparkSession\n",
        "spark = SparkSession \\\n",
        "    .builder \\\n",
        "    .appName('Belajar PySpark : Manipulasi Data') \\\n",
        "    .master('local[*]') \\\n",
        "    .config('spark.executor.memory', '2g') \\\n",
        "    .config('spark.executor.cores', '4') \\\n",
        "    .getOrCreate()\n",
        "\n",
        "# Properti untuk membuat format tabel\n",
        "spark.conf.set('spark.sql.repl.eagerEval.enabled', True)\n",
        "\n",
        "# Definisikan sparkContext\n",
        "sc = spark.sparkContext\n",
        "\n",
        "# Tampilkan hasil\n",
        "display(spark)"
      ],
      "metadata": {
        "colab": {
          "base_uri": "https://localhost:8080/",
          "height": 216
        },
        "id": "IoljvoBKN7gB",
        "outputId": "986acf43-bf5f-4914-d3bd-9a9fd5af0e3a"
      },
      "execution_count": null,
      "outputs": [
        {
          "output_type": "display_data",
          "data": {
            "text/plain": [
              "<pyspark.sql.session.SparkSession at 0x79b46a725f00>"
            ],
            "text/html": [
              "\n",
              "            <div>\n",
              "                <p><b>SparkSession - in-memory</b></p>\n",
              "                \n",
              "        <div>\n",
              "            <p><b>SparkContext</b></p>\n",
              "\n",
              "            <p><a href=\"http://86aef68bb772:4040\">Spark UI</a></p>\n",
              "\n",
              "            <dl>\n",
              "              <dt>Version</dt>\n",
              "                <dd><code>v3.5.0</code></dd>\n",
              "              <dt>Master</dt>\n",
              "                <dd><code>local[*]</code></dd>\n",
              "              <dt>AppName</dt>\n",
              "                <dd><code>Belajar PySpark : Manipulasi Data</code></dd>\n",
              "            </dl>\n",
              "        </div>\n",
              "        \n",
              "            </div>\n",
              "        "
            ]
          },
          "metadata": {}
        }
      ]
    },
    {
      "cell_type": "markdown",
      "source": [
        "# **3. Ekstraksi Data**\n",
        "\n"
      ],
      "metadata": {
        "id": "Rr_sARQoQQcb"
      }
    },
    {
      "cell_type": "markdown",
      "source": [
        "> Ekstrak data dari file csv"
      ],
      "metadata": {
        "id": "Jea9gza9Ti6m"
      }
    },
    {
      "cell_type": "code",
      "source": [
        "# Ekstraksi data csv\n",
        "data_loan = spark.read.csv(\n",
        "    'loan.csv',\n",
        "    header = True,\n",
        "    inferSchema = True,\n",
        "    nullValue = 'NA'\n",
        ")\n",
        "\n",
        "# Tampilkan hasilnya\n",
        "data_loan.show()"
      ],
      "metadata": {
        "colab": {
          "base_uri": "https://localhost:8080/"
        },
        "id": "N6zKxq5oRFNM",
        "outputId": "ee2f6a66-d379-4b77-a4ec-23133de8e33e"
      },
      "execution_count": null,
      "outputs": [
        {
          "output_type": "stream",
          "name": "stdout",
          "text": [
            "+-------+---------+---------+-----------+---------------+----------+--------+-----------+-----+---------+--------------------+----------+--------------+----------+-------------------+-------+-----------+----------+--------------------+--------------------+------------------+--------------------+--------+----------+-----+-----------+----------------+--------------+----------------------+----------------------+--------+-------+---------+----------+---------+-------------------+---------+-------------+-----------+---------------+---------------+-------------+------------------+----------+-----------------------+------------+---------------+------------+------------------+--------------------------+---------------------------+-----------+----------------+----------------+---------+-------------------------+--------------+------------+-----------+-----------+----------+-----------+-----------+------------------+------------+-------+-----------+-----------+----------+--------+----------------+------+-----------+------------+--------------------+-----------+--------------+-------+------------------------+-----------+------------------+--------------------+---------------------+--------------+--------+--------------------+------------------------+---------------------+------------------------------+---------------------+--------------+---------------+-----------+---------+---------+-------------+-------------+-------------------+--------+----------------+------------+------------------+------------------+--------------+----------------+--------------------+---------+---------------+-----------------+--------------+--------------------------+\n",
            "|     id|member_id|loan_amnt|funded_amnt|funded_amnt_inv|      term|int_rate|installment|grade|sub_grade|           emp_title|emp_length|home_ownership|annual_inc|verification_status|issue_d|loan_status|pymnt_plan|                 url|                desc|           purpose|               title|zip_code|addr_state|  dti|delinq_2yrs|earliest_cr_line|inq_last_6mths|mths_since_last_delinq|mths_since_last_record|open_acc|pub_rec|revol_bal|revol_util|total_acc|initial_list_status|out_prncp|out_prncp_inv|total_pymnt|total_pymnt_inv|total_rec_prncp|total_rec_int|total_rec_late_fee|recoveries|collection_recovery_fee|last_pymnt_d|last_pymnt_amnt|next_pymnt_d|last_credit_pull_d|collections_12_mths_ex_med|mths_since_last_major_derog|policy_code|application_type|annual_inc_joint|dti_joint|verification_status_joint|acc_now_delinq|tot_coll_amt|tot_cur_bal|open_acc_6m|open_il_6m|open_il_12m|open_il_24m|mths_since_rcnt_il|total_bal_il|il_util|open_rv_12m|open_rv_24m|max_bal_bc|all_util|total_rev_hi_lim|inq_fi|total_cu_tl|inq_last_12m|acc_open_past_24mths|avg_cur_bal|bc_open_to_buy|bc_util|chargeoff_within_12_mths|delinq_amnt|mo_sin_old_il_acct|mo_sin_old_rev_tl_op|mo_sin_rcnt_rev_tl_op|mo_sin_rcnt_tl|mort_acc|mths_since_recent_bc|mths_since_recent_bc_dlq|mths_since_recent_inq|mths_since_recent_revol_delinq|num_accts_ever_120_pd|num_actv_bc_tl|num_actv_rev_tl|num_bc_sats|num_bc_tl|num_il_tl|num_op_rev_tl|num_rev_accts|num_rev_tl_bal_gt_0|num_sats|num_tl_120dpd_2m|num_tl_30dpd|num_tl_90g_dpd_24m|num_tl_op_past_12m|pct_tl_nvr_dlq|percent_bc_gt_75|pub_rec_bankruptcies|tax_liens|tot_hi_cred_lim|total_bal_ex_mort|total_bc_limit|total_il_high_credit_limit|\n",
            "+-------+---------+---------+-----------+---------------+----------+--------+-----------+-----+---------+--------------------+----------+--------------+----------+-------------------+-------+-----------+----------+--------------------+--------------------+------------------+--------------------+--------+----------+-----+-----------+----------------+--------------+----------------------+----------------------+--------+-------+---------+----------+---------+-------------------+---------+-------------+-----------+---------------+---------------+-------------+------------------+----------+-----------------------+------------+---------------+------------+------------------+--------------------------+---------------------------+-----------+----------------+----------------+---------+-------------------------+--------------+------------+-----------+-----------+----------+-----------+-----------+------------------+------------+-------+-----------+-----------+----------+--------+----------------+------+-----------+------------+--------------------+-----------+--------------+-------+------------------------+-----------+------------------+--------------------+---------------------+--------------+--------+--------------------+------------------------+---------------------+------------------------------+---------------------+--------------+---------------+-----------+---------+---------+-------------+-------------+-------------------+--------+----------------+------------+------------------+------------------+--------------+----------------+--------------------+---------+---------------+-----------------+--------------+--------------------------+\n",
            "|1077501|  1296599|     5000|       5000|         4975.0| 36 months|  10.65%|     162.87|    B|       B2|                    | 10+ years|          RENT|   24000.0|           Verified| Dec-11| Fully Paid|         n|https://lendingcl...|  Borrower added ...|       credit_card|            Computer|   860xx|        AZ|27.65|          0|          Jan-85|             1|                  NULL|                  NULL|       3|      0|    13648|    83.70%|        9|                  f|        0|            0|5863.155187|        5833.84|           5000|       863.16|                 0|         0|                      0|      Jan-15|         171.62|            |            May-16|                         0|                       NULL|          1|      INDIVIDUAL|            NULL|     NULL|                     NULL|             0|        NULL|       NULL|       NULL|      NULL|       NULL|       NULL|              NULL|        NULL|   NULL|       NULL|       NULL|      NULL|    NULL|            NULL|  NULL|       NULL|        NULL|                NULL|       NULL|          NULL|   NULL|                       0|          0|              NULL|                NULL|                 NULL|          NULL|    NULL|                NULL|                    NULL|                 NULL|                          NULL|                 NULL|          NULL|           NULL|       NULL|     NULL|     NULL|         NULL|         NULL|               NULL|    NULL|            NULL|        NULL|              NULL|              NULL|          NULL|            NULL|                   0|        0|           NULL|             NULL|          NULL|                      NULL|\n",
            "|1077430|  1314167|     2500|       2500|         2500.0| 60 months|  15.27%|      59.83|    C|       C4|               Ryder|  < 1 year|          RENT|   30000.0|    Source Verified| Dec-11|Charged Off|         n|https://lendingcl...|  Borrower added ...|               car|                bike|   309xx|        GA|    1|          0|          Apr-99|             5|                  NULL|                  NULL|       3|      0|     1687|     9.40%|        4|                  f|        0|            0|    1008.71|        1008.71|         456.46|       435.17|                 0|    117.08|                   1.11|      Apr-13|         119.66|            |            Sep-13|                         0|                       NULL|          1|      INDIVIDUAL|            NULL|     NULL|                     NULL|             0|        NULL|       NULL|       NULL|      NULL|       NULL|       NULL|              NULL|        NULL|   NULL|       NULL|       NULL|      NULL|    NULL|            NULL|  NULL|       NULL|        NULL|                NULL|       NULL|          NULL|   NULL|                       0|          0|              NULL|                NULL|                 NULL|          NULL|    NULL|                NULL|                    NULL|                 NULL|                          NULL|                 NULL|          NULL|           NULL|       NULL|     NULL|     NULL|         NULL|         NULL|               NULL|    NULL|            NULL|        NULL|              NULL|              NULL|          NULL|            NULL|                   0|        0|           NULL|             NULL|          NULL|                      NULL|\n",
            "|1077175|  1313524|     2400|       2400|         2400.0| 36 months|  15.96%|      84.33|    C|       C5|                    | 10+ years|          RENT|   12252.0|       Not Verified| Dec-11| Fully Paid|         n|https://lendingcl...|                    |    small_business|real estate business|   606xx|        IL| 8.72|          0|          Nov-01|             2|                  NULL|                  NULL|       2|      0|     2956|    98.50%|       10|                  f|        0|            0|3005.666844|        3005.67|           2400|       605.67|                 0|         0|                      0|      Jun-14|         649.91|            |            May-16|                         0|                       NULL|          1|      INDIVIDUAL|            NULL|     NULL|                     NULL|             0|        NULL|       NULL|       NULL|      NULL|       NULL|       NULL|              NULL|        NULL|   NULL|       NULL|       NULL|      NULL|    NULL|            NULL|  NULL|       NULL|        NULL|                NULL|       NULL|          NULL|   NULL|                       0|          0|              NULL|                NULL|                 NULL|          NULL|    NULL|                NULL|                    NULL|                 NULL|                          NULL|                 NULL|          NULL|           NULL|       NULL|     NULL|     NULL|         NULL|         NULL|               NULL|    NULL|            NULL|        NULL|              NULL|              NULL|          NULL|            NULL|                   0|        0|           NULL|             NULL|          NULL|                      NULL|\n",
            "|1076863|  1277178|    10000|      10000|        10000.0| 36 months|  13.49%|     339.31|    C|       C1| AIR RESOURCES BOARD| 10+ years|          RENT|   49200.0|    Source Verified| Dec-11| Fully Paid|         n|https://lendingcl...|  Borrower added ...|             other|            personel|   917xx|        CA|   20|          0|          Feb-96|             1|                    35|                  NULL|      10|      0|     5598|       21%|       37|                  f|        0|            0|   12231.89|       12231.89|          10000|      2214.92|             16.97|         0|                      0|      Jan-15|         357.48|            |            Apr-16|                         0|                       NULL|          1|      INDIVIDUAL|            NULL|     NULL|                     NULL|             0|        NULL|       NULL|       NULL|      NULL|       NULL|       NULL|              NULL|        NULL|   NULL|       NULL|       NULL|      NULL|    NULL|            NULL|  NULL|       NULL|        NULL|                NULL|       NULL|          NULL|   NULL|                       0|          0|              NULL|                NULL|                 NULL|          NULL|    NULL|                NULL|                    NULL|                 NULL|                          NULL|                 NULL|          NULL|           NULL|       NULL|     NULL|     NULL|         NULL|         NULL|               NULL|    NULL|            NULL|        NULL|              NULL|              NULL|          NULL|            NULL|                   0|        0|           NULL|             NULL|          NULL|                      NULL|\n",
            "|1075358|  1311748|     3000|       3000|         3000.0| 60 months|  12.69%|      67.79|    B|       B5|University Medica...|    1 year|          RENT|   80000.0|    Source Verified| Dec-11|    Current|         n|https://lendingcl...|  Borrower added ...|             other|            Personal|   972xx|        OR|17.94|          0|          Jan-96|             0|                    38|                  NULL|      15|      0|    27783|    53.90%|       38|                  f|   524.06|       524.06|    3513.33|        3513.33|        2475.94|      1037.39|                 0|         0|                      0|      May-16|          67.79|      Jun-16|            May-16|                         0|                       NULL|          1|      INDIVIDUAL|            NULL|     NULL|                     NULL|             0|        NULL|       NULL|       NULL|      NULL|       NULL|       NULL|              NULL|        NULL|   NULL|       NULL|       NULL|      NULL|    NULL|            NULL|  NULL|       NULL|        NULL|                NULL|       NULL|          NULL|   NULL|                       0|          0|              NULL|                NULL|                 NULL|          NULL|    NULL|                NULL|                    NULL|                 NULL|                          NULL|                 NULL|          NULL|           NULL|       NULL|     NULL|     NULL|         NULL|         NULL|               NULL|    NULL|            NULL|        NULL|              NULL|              NULL|          NULL|            NULL|                   0|        0|           NULL|             NULL|          NULL|                      NULL|\n",
            "|1075269|  1311441|     5000|       5000|         5000.0| 36 months|   7.90%|     156.46|    A|       A4|Veolia Transportaton|   3 years|          RENT|   36000.0|    Source Verified| Dec-11| Fully Paid|         n|https://lendingcl...|                    |           wedding|My wedding loan I...|   852xx|        AZ| 11.2|          0|          Nov-04|             3|                  NULL|                  NULL|       9|      0|     7963|    28.30%|       12|                  f|        0|            0|    5632.21|        5632.21|           5000|       632.21|                 0|         0|                      0|      Jan-15|         161.03|            |            Jan-16|                         0|                       NULL|          1|      INDIVIDUAL|            NULL|     NULL|                     NULL|             0|        NULL|       NULL|       NULL|      NULL|       NULL|       NULL|              NULL|        NULL|   NULL|       NULL|       NULL|      NULL|    NULL|            NULL|  NULL|       NULL|        NULL|                NULL|       NULL|          NULL|   NULL|                       0|          0|              NULL|                NULL|                 NULL|          NULL|    NULL|                NULL|                    NULL|                 NULL|                          NULL|                 NULL|          NULL|           NULL|       NULL|     NULL|     NULL|         NULL|         NULL|               NULL|    NULL|            NULL|        NULL|              NULL|              NULL|          NULL|            NULL|                   0|        0|           NULL|             NULL|          NULL|                      NULL|\n",
            "|1069639|  1304742|     7000|       7000|         7000.0| 60 months|  15.96%|     170.08|    C|       C5|Southern Star Pho...|   8 years|          RENT|   47004.0|       Not Verified| Dec-11| Fully Paid|         n|https://lendingcl...|  Borrower added ...|debt_consolidation|                Loan|   280xx|        NC|23.51|          0|          Jul-05|             1|                  NULL|                  NULL|       7|      0|    17726|    85.60%|       11|                  f|        0|            0|   10110.84|       10110.84|        6985.61|      3125.23|                 0|         0|                      0|      May-16|        1313.76|            |            May-16|                         0|                       NULL|          1|      INDIVIDUAL|            NULL|     NULL|                     NULL|             0|        NULL|       NULL|       NULL|      NULL|       NULL|       NULL|              NULL|        NULL|   NULL|       NULL|       NULL|      NULL|    NULL|            NULL|  NULL|       NULL|        NULL|                NULL|       NULL|          NULL|   NULL|                       0|          0|              NULL|                NULL|                 NULL|          NULL|    NULL|                NULL|                    NULL|                 NULL|                          NULL|                 NULL|          NULL|           NULL|       NULL|     NULL|     NULL|         NULL|         NULL|               NULL|    NULL|            NULL|        NULL|              NULL|              NULL|          NULL|            NULL|                   0|        0|           NULL|             NULL|          NULL|                      NULL|\n",
            "|1072053|  1288686|     3000|       3000|         3000.0| 36 months|  18.64%|     109.43|    E|       E1|     MKC Accounting |   9 years|          RENT|   48000.0|    Source Verified| Dec-11| Fully Paid|         n|https://lendingcl...|  Borrower added ...|               car|     Car Downpayment|   900xx|        CA| 5.35|          0|          Jan-07|             2|                  NULL|                  NULL|       4|      0|     8221|    87.50%|        4|                  f|        0|            0|3939.135294|        3939.14|           3000|       939.14|                 0|         0|                      0|      Jan-15|         111.34|            |            Dec-14|                         0|                       NULL|          1|      INDIVIDUAL|            NULL|     NULL|                     NULL|             0|        NULL|       NULL|       NULL|      NULL|       NULL|       NULL|              NULL|        NULL|   NULL|       NULL|       NULL|      NULL|    NULL|            NULL|  NULL|       NULL|        NULL|                NULL|       NULL|          NULL|   NULL|                       0|          0|              NULL|                NULL|                 NULL|          NULL|    NULL|                NULL|                    NULL|                 NULL|                          NULL|                 NULL|          NULL|           NULL|       NULL|     NULL|     NULL|         NULL|         NULL|               NULL|    NULL|            NULL|        NULL|              NULL|              NULL|          NULL|            NULL|                   0|        0|           NULL|             NULL|          NULL|                      NULL|\n",
            "|1071795|  1306957|     5600|       5600|         5600.0| 60 months|  21.28%|     152.39|    F|       F2|                    |   4 years|           OWN|   40000.0|    Source Verified| Dec-11|Charged Off|         n|https://lendingcl...|  Borrower added ...|    small_business|Expand Business &...|   958xx|        CA| 5.55|          0|          Apr-04|             2|                  NULL|                  NULL|      11|      0|     5210|    32.60%|       13|                  f|        0|            0|     646.02|         646.02|         162.02|       294.94|                 0|    189.06|                   2.09|      Apr-12|         152.39|            |            Aug-12|                         0|                       NULL|          1|      INDIVIDUAL|            NULL|     NULL|                     NULL|             0|        NULL|       NULL|       NULL|      NULL|       NULL|       NULL|              NULL|        NULL|   NULL|       NULL|       NULL|      NULL|    NULL|            NULL|  NULL|       NULL|        NULL|                NULL|       NULL|          NULL|   NULL|                       0|          0|              NULL|                NULL|                 NULL|          NULL|    NULL|                NULL|                    NULL|                 NULL|                          NULL|                 NULL|          NULL|           NULL|       NULL|     NULL|     NULL|         NULL|         NULL|               NULL|    NULL|            NULL|        NULL|              NULL|              NULL|          NULL|            NULL|                   0|        0|           NULL|             NULL|          NULL|                      NULL|\n",
            "|1071570|  1306721|     5375|       5375|         5350.0| 60 months|  12.69%|     121.45|    B|       B5|           Starbucks|  < 1 year|          RENT|   15000.0|           Verified| Dec-11|Charged Off|         n|https://lendingcl...|  Borrower added ...|             other|Building my credi...|   774xx|        TX|18.08|          0|          Sep-04|             0|                  NULL|                  NULL|       2|      0|     9279|    36.50%|        3|                  f|        0|            0|    1476.19|        1469.34|         673.48|       533.42|                 0|    269.29|                   2.52|      Nov-12|         121.45|            |            Mar-13|                         0|                       NULL|          1|      INDIVIDUAL|            NULL|     NULL|                     NULL|             0|        NULL|       NULL|       NULL|      NULL|       NULL|       NULL|              NULL|        NULL|   NULL|       NULL|       NULL|      NULL|    NULL|            NULL|  NULL|       NULL|        NULL|                NULL|       NULL|          NULL|   NULL|                       0|          0|              NULL|                NULL|                 NULL|          NULL|    NULL|                NULL|                    NULL|                 NULL|                          NULL|                 NULL|          NULL|           NULL|       NULL|     NULL|     NULL|         NULL|         NULL|               NULL|    NULL|            NULL|        NULL|              NULL|              NULL|          NULL|            NULL|                   0|        0|           NULL|             NULL|          NULL|                      NULL|\n",
            "|1070078|  1305201|     6500|       6500|         6500.0| 60 months|  14.65%|     153.45|    C|       C3|Southwest Rural m...|   5 years|           OWN|   72000.0|       Not Verified| Dec-11| Fully Paid|         n|https://lendingcl...|  Borrower added ...|debt_consolidation|High intrest Cons...|   853xx|        AZ|16.12|          0|          Jan-98|             2|                  NULL|                  NULL|      14|      0|     4032|    20.60%|       23|                  f|        0|            0|7678.017673|        7678.02|           6500|      1178.02|                 0|         0|                      0|      Jun-13|        1655.54|            |            Dec-15|                         0|                       NULL|          1|      INDIVIDUAL|            NULL|     NULL|                     NULL|             0|        NULL|       NULL|       NULL|      NULL|       NULL|       NULL|              NULL|        NULL|   NULL|       NULL|       NULL|      NULL|    NULL|            NULL|  NULL|       NULL|        NULL|                NULL|       NULL|          NULL|   NULL|                       0|          0|              NULL|                NULL|                 NULL|          NULL|    NULL|                NULL|                    NULL|                 NULL|                          NULL|                 NULL|          NULL|           NULL|       NULL|     NULL|     NULL|         NULL|         NULL|               NULL|    NULL|            NULL|        NULL|              NULL|              NULL|          NULL|            NULL|                   0|        0|           NULL|             NULL|          NULL|                      NULL|\n",
            "|1069908|  1305008|    12000|      12000|        12000.0| 36 months|  12.69%|     402.54|    B|       B5|                UCLA| 10+ years|           OWN|   75000.0|    Source Verified| Dec-11| Fully Paid|         n|https://lendingcl...|                    |debt_consolidation|       Consolidation|   913xx|        CA|10.78|          0|          Oct-89|             0|                  NULL|                  NULL|      12|      0|    23336|    67.10%|       34|                  f|        0|            0|13947.98916|       13947.99|          12000|      1947.99|                 0|         0|                      0|      Sep-13|         6315.3|            |            Aug-13|                         0|                       NULL|          1|      INDIVIDUAL|            NULL|     NULL|                     NULL|             0|        NULL|       NULL|       NULL|      NULL|       NULL|       NULL|              NULL|        NULL|   NULL|       NULL|       NULL|      NULL|    NULL|            NULL|  NULL|       NULL|        NULL|                NULL|       NULL|          NULL|   NULL|                       0|          0|              NULL|                NULL|                 NULL|          NULL|    NULL|                NULL|                    NULL|                 NULL|                          NULL|                 NULL|          NULL|           NULL|       NULL|     NULL|     NULL|         NULL|         NULL|               NULL|    NULL|            NULL|        NULL|              NULL|              NULL|          NULL|            NULL|                   0|        0|           NULL|             NULL|          NULL|                      NULL|\n",
            "|1064687|  1298717|     9000|       9000|         9000.0| 36 months|  13.49%|     305.38|    C|       C1|Va. Dept of Conse...|  < 1 year|          RENT|   30000.0|    Source Verified| Dec-11|Charged Off|         n|https://lendingcl...|  Borrower added ...|debt_consolidation|             freedom|   245xx|        VA|10.08|          0|          Apr-04|             1|                  NULL|                  NULL|       4|      0|    10452|    91.70%|        9|                  f|        0|            0|     2270.7|         2270.7|        1256.14|       570.26|                 0|     444.3|                   4.16|      Jul-12|         305.38|            |            Nov-12|                         0|                       NULL|          1|      INDIVIDUAL|            NULL|     NULL|                     NULL|             0|        NULL|       NULL|       NULL|      NULL|       NULL|       NULL|              NULL|        NULL|   NULL|       NULL|       NULL|      NULL|    NULL|            NULL|  NULL|       NULL|        NULL|                NULL|       NULL|          NULL|   NULL|                       0|          0|              NULL|                NULL|                 NULL|          NULL|    NULL|                NULL|                    NULL|                 NULL|                          NULL|                 NULL|          NULL|           NULL|       NULL|     NULL|     NULL|         NULL|         NULL|               NULL|    NULL|            NULL|        NULL|              NULL|              NULL|          NULL|            NULL|                   0|        0|           NULL|             NULL|          NULL|                      NULL|\n",
            "|1069866|  1304956|     3000|       3000|         3000.0| 36 months|   9.91%|      96.68|    B|       B1|              Target|   3 years|          RENT|   15000.0|    Source Verified| Dec-11| Fully Paid|         n|https://lendingcl...|  Borrower added ...|       credit_card|       citicard fund|   606xx|        IL|12.56|          0|          Jul-03|             2|                  NULL|                  NULL|      11|      0|     7323|    43.10%|       11|                  f|        0|            0|3480.269999|        3480.27|           3000|       480.27|                 0|         0|                      0|      Jan-15|         102.43|            |            May-16|                         0|                       NULL|          1|      INDIVIDUAL|            NULL|     NULL|                     NULL|             0|        NULL|       NULL|       NULL|      NULL|       NULL|       NULL|              NULL|        NULL|   NULL|       NULL|       NULL|      NULL|    NULL|            NULL|  NULL|       NULL|        NULL|                NULL|       NULL|          NULL|   NULL|                       0|          0|              NULL|                NULL|                 NULL|          NULL|    NULL|                NULL|                    NULL|                 NULL|                          NULL|                 NULL|          NULL|           NULL|       NULL|     NULL|     NULL|         NULL|         NULL|               NULL|    NULL|            NULL|        NULL|              NULL|              NULL|          NULL|            NULL|                   0|        0|           NULL|             NULL|          NULL|                      NULL|\n",
            "|1069057|  1303503|    10000|      10000|        10000.0| 36 months|  10.65%|     325.74|    B|       B2|               SFMTA|   3 years|          RENT|  100000.0|    Source Verified| Dec-11|Charged Off|         n|https://lendingcl...|                    |             other|          Other Loan|   951xx|        CA| 7.06|          0|          May-91|             2|                  NULL|                  NULL|      14|      0|    11997|    55.50%|       29|                  f|        0|            0|    7471.99|        7471.99|        5433.47|      1393.42|                 0|     645.1|                 6.3145|      Oct-13|         325.74|            |            Mar-14|                         0|                       NULL|          1|      INDIVIDUAL|            NULL|     NULL|                     NULL|             0|        NULL|       NULL|       NULL|      NULL|       NULL|       NULL|              NULL|        NULL|   NULL|       NULL|       NULL|      NULL|    NULL|            NULL|  NULL|       NULL|        NULL|                NULL|       NULL|          NULL|   NULL|                       0|          0|              NULL|                NULL|                 NULL|          NULL|    NULL|                NULL|                    NULL|                 NULL|                          NULL|                 NULL|          NULL|           NULL|       NULL|     NULL|     NULL|         NULL|         NULL|               NULL|    NULL|            NULL|        NULL|              NULL|              NULL|          NULL|            NULL|                   0|        0|           NULL|             NULL|          NULL|                      NULL|\n",
            "|1069759|  1304871|     1000|       1000|         1000.0| 36 months|  16.29%|      35.31|    D|       D1|Internal revenue ...|  < 1 year|          RENT|   28000.0|       Not Verified| Dec-11| Fully Paid|         n|https://lendingcl...|                    |debt_consolidation|Debt Consolidatio...|   641xx|        MO|20.31|          0|          Sep-07|             1|                  NULL|                  NULL|      11|      0|     6524|    81.50%|       23|                  f|        0|            0|1270.716942|        1270.72|           1000|       270.72|                 0|         0|                      0|      Jan-15|          36.32|            |            May-16|                         0|                       NULL|          1|      INDIVIDUAL|            NULL|     NULL|                     NULL|             0|        NULL|       NULL|       NULL|      NULL|       NULL|       NULL|              NULL|        NULL|   NULL|       NULL|       NULL|      NULL|    NULL|            NULL|  NULL|       NULL|        NULL|                NULL|       NULL|          NULL|   NULL|                       0|          0|              NULL|                NULL|                 NULL|          NULL|    NULL|                NULL|                    NULL|                 NULL|                          NULL|                 NULL|          NULL|           NULL|       NULL|     NULL|     NULL|         NULL|         NULL|               NULL|    NULL|            NULL|        NULL|              NULL|              NULL|          NULL|            NULL|                   0|        0|           NULL|             NULL|          NULL|                      NULL|\n",
            "|1065775|  1299699|    10000|      10000|        10000.0| 36 months|  15.27%|     347.98|    C|       C4|   Chin's Restaurant|   4 years|          RENT|   42000.0|       Not Verified| Dec-11| Fully Paid|         n|https://lendingcl...|                    |  home_improvement|                Home|   921xx|        CA| 18.6|          0|          Oct-98|             2|                    61|                  NULL|      14|      0|    24043|    70.20%|       28|                  f|        0|            0|   12527.15|       12527.15|          10000|      2527.15|                 0|         0|                      0|      Jan-15|         370.46|            |            Apr-15|                         0|                       NULL|          1|      INDIVIDUAL|            NULL|     NULL|                     NULL|             0|        NULL|       NULL|       NULL|      NULL|       NULL|       NULL|              NULL|        NULL|   NULL|       NULL|       NULL|      NULL|    NULL|            NULL|  NULL|       NULL|        NULL|                NULL|       NULL|          NULL|   NULL|                       0|          0|              NULL|                NULL|                 NULL|          NULL|    NULL|                NULL|                    NULL|                 NULL|                          NULL|                 NULL|          NULL|           NULL|       NULL|     NULL|     NULL|         NULL|         NULL|               NULL|    NULL|            NULL|        NULL|              NULL|              NULL|          NULL|            NULL|                   0|        0|           NULL|             NULL|          NULL|                      NULL|\n",
            "|1069971|  1304884|     3600|       3600|         3600.0| 36 months|   6.03%|     109.57|    A|       A1|            Duracell| 10+ years|      MORTGAGE|  110000.0|       Not Verified| Dec-11| Fully Paid|         n|https://lendingcl...|  Borrower added ...|    major_purchase|             Holiday|   067xx|        CT|10.52|          0|          Aug-93|             0|                  NULL|                  NULL|      20|      0|    22836|       16%|       42|                  f|        0|            0|3785.271965|        3785.27|           3600|       185.27|                 0|         0|                      0|      May-13|         583.45|            |            May-14|                         0|                       NULL|          1|      INDIVIDUAL|            NULL|     NULL|                     NULL|             0|        NULL|       NULL|       NULL|      NULL|       NULL|       NULL|              NULL|        NULL|   NULL|       NULL|       NULL|      NULL|    NULL|            NULL|  NULL|       NULL|        NULL|                NULL|       NULL|          NULL|   NULL|                       0|          0|              NULL|                NULL|                 NULL|          NULL|    NULL|                NULL|                    NULL|                 NULL|                          NULL|                 NULL|          NULL|           NULL|       NULL|     NULL|     NULL|         NULL|         NULL|               NULL|    NULL|            NULL|        NULL|              NULL|              NULL|          NULL|            NULL|                   0|        0|           NULL|             NULL|          NULL|                      NULL|\n",
            "|1062474|  1294539|     6000|       6000|         6000.0| 36 months|  11.71%|     198.46|    B|       B3|Connection Inspec...|    1 year|      MORTGAGE|   84000.0|           Verified| Dec-11| Fully Paid|         n|https://lendingcl...|  Borrower added ...|           medical|             Medical|   890xx|        UT|18.44|          2|          Oct-03|             0|                     8|                  NULL|       4|      0|        0|    37.73%|       14|                  f|        0|            0|7167.072893|        7167.07|           6000|      1152.07|       15.00000003|         0|                      0|      Feb-15|          16.98|            |            Jul-15|                         0|                       NULL|          1|      INDIVIDUAL|            NULL|     NULL|                     NULL|             0|        NULL|       NULL|       NULL|      NULL|       NULL|       NULL|              NULL|        NULL|   NULL|       NULL|       NULL|      NULL|    NULL|            NULL|  NULL|       NULL|        NULL|                NULL|       NULL|          NULL|   NULL|                       0|          0|              NULL|                NULL|                 NULL|          NULL|    NULL|                NULL|                    NULL|                 NULL|                          NULL|                 NULL|          NULL|           NULL|       NULL|     NULL|     NULL|         NULL|         NULL|               NULL|    NULL|            NULL|        NULL|              NULL|              NULL|          NULL|            NULL|                   0|        0|           NULL|             NULL|          NULL|                      NULL|\n",
            "|1069742|  1304855|     9200|       9200|         9200.0| 36 months|   6.03%|     280.01|    A|       A1|Network Interpret...|   6 years|          RENT|  77385.19|       Not Verified| Dec-11| Fully Paid|         n|https://lendingcl...|                    |debt_consolidation|lowerratemeanseas...|   921xx|        CA| 9.86|          0|          Jan-01|             0|                  NULL|                  NULL|       8|      0|     7314|    23.10%|       28|                  f|        0|            0|9460.000848|           9460|           9200|          260|                 0|         0|                      0|      Jul-12|         8061.1|            |            Feb-16|                         0|                       NULL|          1|      INDIVIDUAL|            NULL|     NULL|                     NULL|             0|        NULL|       NULL|       NULL|      NULL|       NULL|       NULL|              NULL|        NULL|   NULL|       NULL|       NULL|      NULL|    NULL|            NULL|  NULL|       NULL|        NULL|                NULL|       NULL|          NULL|   NULL|                       0|          0|              NULL|                NULL|                 NULL|          NULL|    NULL|                NULL|                    NULL|                 NULL|                          NULL|                 NULL|          NULL|           NULL|       NULL|     NULL|     NULL|         NULL|         NULL|               NULL|    NULL|            NULL|        NULL|              NULL|              NULL|          NULL|            NULL|                   0|        0|           NULL|             NULL|          NULL|                      NULL|\n",
            "+-------+---------+---------+-----------+---------------+----------+--------+-----------+-----+---------+--------------------+----------+--------------+----------+-------------------+-------+-----------+----------+--------------------+--------------------+------------------+--------------------+--------+----------+-----+-----------+----------------+--------------+----------------------+----------------------+--------+-------+---------+----------+---------+-------------------+---------+-------------+-----------+---------------+---------------+-------------+------------------+----------+-----------------------+------------+---------------+------------+------------------+--------------------------+---------------------------+-----------+----------------+----------------+---------+-------------------------+--------------+------------+-----------+-----------+----------+-----------+-----------+------------------+------------+-------+-----------+-----------+----------+--------+----------------+------+-----------+------------+--------------------+-----------+--------------+-------+------------------------+-----------+------------------+--------------------+---------------------+--------------+--------+--------------------+------------------------+---------------------+------------------------------+---------------------+--------------+---------------+-----------+---------+---------+-------------+-------------+-------------------+--------+----------------+------------+------------------+------------------+--------------+----------------+--------------------+---------+---------------+-----------------+--------------+--------------------------+\n",
            "only showing top 20 rows\n",
            "\n"
          ]
        }
      ]
    },
    {
      "cell_type": "markdown",
      "source": [
        "> Periksa skema data / tipe data"
      ],
      "metadata": {
        "id": "EtvX2PuQTtGa"
      }
    },
    {
      "cell_type": "code",
      "source": [
        "# Periksa skema data\n",
        "data_loan.printSchema()"
      ],
      "metadata": {
        "colab": {
          "base_uri": "https://localhost:8080/"
        },
        "id": "2Zn9UNIHRrP-",
        "outputId": "dbd6d3fa-a202-4a9b-c6be-c7581b6f7884"
      },
      "execution_count": null,
      "outputs": [
        {
          "output_type": "stream",
          "name": "stdout",
          "text": [
            "root\n",
            " |-- id: integer (nullable = true)\n",
            " |-- member_id: integer (nullable = true)\n",
            " |-- loan_amnt: integer (nullable = true)\n",
            " |-- funded_amnt: integer (nullable = true)\n",
            " |-- funded_amnt_inv: double (nullable = true)\n",
            " |-- term: string (nullable = true)\n",
            " |-- int_rate: string (nullable = true)\n",
            " |-- installment: double (nullable = true)\n",
            " |-- grade: string (nullable = true)\n",
            " |-- sub_grade: string (nullable = true)\n",
            " |-- emp_title: string (nullable = true)\n",
            " |-- emp_length: string (nullable = true)\n",
            " |-- home_ownership: string (nullable = true)\n",
            " |-- annual_inc: double (nullable = true)\n",
            " |-- verification_status: string (nullable = true)\n",
            " |-- issue_d: string (nullable = true)\n",
            " |-- loan_status: string (nullable = true)\n",
            " |-- pymnt_plan: string (nullable = true)\n",
            " |-- url: string (nullable = true)\n",
            " |-- desc: string (nullable = true)\n",
            " |-- purpose: string (nullable = true)\n",
            " |-- title: string (nullable = true)\n",
            " |-- zip_code: string (nullable = true)\n",
            " |-- addr_state: string (nullable = true)\n",
            " |-- dti: string (nullable = true)\n",
            " |-- delinq_2yrs: string (nullable = true)\n",
            " |-- earliest_cr_line: string (nullable = true)\n",
            " |-- inq_last_6mths: string (nullable = true)\n",
            " |-- mths_since_last_delinq: string (nullable = true)\n",
            " |-- mths_since_last_record: string (nullable = true)\n",
            " |-- open_acc: string (nullable = true)\n",
            " |-- pub_rec: string (nullable = true)\n",
            " |-- revol_bal: string (nullable = true)\n",
            " |-- revol_util: string (nullable = true)\n",
            " |-- total_acc: string (nullable = true)\n",
            " |-- initial_list_status: string (nullable = true)\n",
            " |-- out_prncp: string (nullable = true)\n",
            " |-- out_prncp_inv: string (nullable = true)\n",
            " |-- total_pymnt: string (nullable = true)\n",
            " |-- total_pymnt_inv: string (nullable = true)\n",
            " |-- total_rec_prncp: string (nullable = true)\n",
            " |-- total_rec_int: string (nullable = true)\n",
            " |-- total_rec_late_fee: string (nullable = true)\n",
            " |-- recoveries: string (nullable = true)\n",
            " |-- collection_recovery_fee: string (nullable = true)\n",
            " |-- last_pymnt_d: string (nullable = true)\n",
            " |-- last_pymnt_amnt: string (nullable = true)\n",
            " |-- next_pymnt_d: string (nullable = true)\n",
            " |-- last_credit_pull_d: string (nullable = true)\n",
            " |-- collections_12_mths_ex_med: string (nullable = true)\n",
            " |-- mths_since_last_major_derog: string (nullable = true)\n",
            " |-- policy_code: string (nullable = true)\n",
            " |-- application_type: string (nullable = true)\n",
            " |-- annual_inc_joint: string (nullable = true)\n",
            " |-- dti_joint: string (nullable = true)\n",
            " |-- verification_status_joint: string (nullable = true)\n",
            " |-- acc_now_delinq: string (nullable = true)\n",
            " |-- tot_coll_amt: string (nullable = true)\n",
            " |-- tot_cur_bal: string (nullable = true)\n",
            " |-- open_acc_6m: string (nullable = true)\n",
            " |-- open_il_6m: string (nullable = true)\n",
            " |-- open_il_12m: string (nullable = true)\n",
            " |-- open_il_24m: string (nullable = true)\n",
            " |-- mths_since_rcnt_il: string (nullable = true)\n",
            " |-- total_bal_il: string (nullable = true)\n",
            " |-- il_util: string (nullable = true)\n",
            " |-- open_rv_12m: string (nullable = true)\n",
            " |-- open_rv_24m: string (nullable = true)\n",
            " |-- max_bal_bc: string (nullable = true)\n",
            " |-- all_util: string (nullable = true)\n",
            " |-- total_rev_hi_lim: string (nullable = true)\n",
            " |-- inq_fi: string (nullable = true)\n",
            " |-- total_cu_tl: string (nullable = true)\n",
            " |-- inq_last_12m: integer (nullable = true)\n",
            " |-- acc_open_past_24mths: integer (nullable = true)\n",
            " |-- avg_cur_bal: string (nullable = true)\n",
            " |-- bc_open_to_buy: integer (nullable = true)\n",
            " |-- bc_util: string (nullable = true)\n",
            " |-- chargeoff_within_12_mths: integer (nullable = true)\n",
            " |-- delinq_amnt: integer (nullable = true)\n",
            " |-- mo_sin_old_il_acct: integer (nullable = true)\n",
            " |-- mo_sin_old_rev_tl_op: integer (nullable = true)\n",
            " |-- mo_sin_rcnt_rev_tl_op: integer (nullable = true)\n",
            " |-- mo_sin_rcnt_tl: integer (nullable = true)\n",
            " |-- mort_acc: integer (nullable = true)\n",
            " |-- mths_since_recent_bc: integer (nullable = true)\n",
            " |-- mths_since_recent_bc_dlq: integer (nullable = true)\n",
            " |-- mths_since_recent_inq: integer (nullable = true)\n",
            " |-- mths_since_recent_revol_delinq: integer (nullable = true)\n",
            " |-- num_accts_ever_120_pd: integer (nullable = true)\n",
            " |-- num_actv_bc_tl: integer (nullable = true)\n",
            " |-- num_actv_rev_tl: integer (nullable = true)\n",
            " |-- num_bc_sats: integer (nullable = true)\n",
            " |-- num_bc_tl: integer (nullable = true)\n",
            " |-- num_il_tl: integer (nullable = true)\n",
            " |-- num_op_rev_tl: integer (nullable = true)\n",
            " |-- num_rev_accts: integer (nullable = true)\n",
            " |-- num_rev_tl_bal_gt_0: integer (nullable = true)\n",
            " |-- num_sats: integer (nullable = true)\n",
            " |-- num_tl_120dpd_2m: integer (nullable = true)\n",
            " |-- num_tl_30dpd: string (nullable = true)\n",
            " |-- num_tl_90g_dpd_24m: integer (nullable = true)\n",
            " |-- num_tl_op_past_12m: integer (nullable = true)\n",
            " |-- pct_tl_nvr_dlq: string (nullable = true)\n",
            " |-- percent_bc_gt_75: string (nullable = true)\n",
            " |-- pub_rec_bankruptcies: integer (nullable = true)\n",
            " |-- tax_liens: integer (nullable = true)\n",
            " |-- tot_hi_cred_lim: integer (nullable = true)\n",
            " |-- total_bal_ex_mort: integer (nullable = true)\n",
            " |-- total_bc_limit: integer (nullable = true)\n",
            " |-- total_il_high_credit_limit: integer (nullable = true)\n",
            "\n"
          ]
        }
      ]
    },
    {
      "cell_type": "markdown",
      "source": [
        "> Periksa jumlah baris dan kolom"
      ],
      "metadata": {
        "id": "0NeTZzhfTzl7"
      }
    },
    {
      "cell_type": "code",
      "source": [
        "# Mendapatkan jumlah baris dan kolom pada DataFrame\n",
        "jumlah_baris = data_loan.count()\n",
        "jumlah_kolom = len(data_loan.columns)\n",
        "\n",
        "# Tampilkan hasilnya\n",
        "print(f'Jumlah baris pada data = {jumlah_baris} dengan banyak kolom = {jumlah_kolom}')"
      ],
      "metadata": {
        "colab": {
          "base_uri": "https://localhost:8080/"
        },
        "id": "ihhqgntWSOF4",
        "outputId": "5f4ee528-d351-485d-fb27-b68f9bc473f4"
      },
      "execution_count": null,
      "outputs": [
        {
          "output_type": "stream",
          "name": "stdout",
          "text": [
            "Jumlah baris pada data = 4118 dengan banyak kolom = 111\n"
          ]
        }
      ]
    },
    {
      "cell_type": "markdown",
      "source": [
        "# **4. Data Manipulation**\n",
        "\n",
        "Beberapa hal yang biasa dilakukan saat data manipulation adalah sebagai berikut :\n",
        "\n",
        "\n",
        "<ul>1️⃣ Pemfilteran (<i>Filtering</i>)</ul>\n",
        "<ul>2️⃣ Penyortiran (<i>Sorting</i>)</ul>\n",
        "<ul>3️⃣ Penggabungan (<i>Merging / Joining</i>)</ul>\n",
        "<ul>4️⃣ Pemisahan (<i>Splitting</i>)</ul>\n",
        "<ul>5️⃣ Penggantian Nilai (<i>Value Replacement</i>)</ul>\n",
        "<ul>6️⃣ Agregasi (<i>Aggregate</i>)</ul>\n",
        "<ul>7️⃣ etc</ul>\n"
      ],
      "metadata": {
        "id": "GI9OiSLJe1E7"
      }
    },
    {
      "cell_type": "markdown",
      "source": [
        "## **4.1 Filtering**\n",
        "\n",
        "Salah satu teknik paling sederhana untuk menemukan bagian mana dari kumpulan data yang menarik adalah menemukan subset baris yang cocok dengan beberapa kriteria untuk di-filter atau dipilih. Untuk melakukan hal ini cukup mudah yakni dengan menuliskan kondisi seperti berikut\n",
        "\n",
        "```\n",
        "DataFrame.filter(conditions)\n",
        "```\n",
        "\n",
        "Conditions dapat dibentuk dari 1 atau lebih kriteria boolean dan dihubungkan dengan operator logika and (&), or (|) atau not (~)\n",
        "\n",
        "<br>\n",
        "\n",
        "\n",
        "docs : <i>https://spark.apache.org/docs/latest/api/python/reference/pyspark.sql/api/pyspark.sql.DataFrame.filter.html</i>"
      ],
      "metadata": {
        "id": "bGZ6X4clgkWO"
      }
    },
    {
      "cell_type": "markdown",
      "source": [
        "> <b>Quest 1</b> : <i>Tampilkan semua data yang loan amount nya lebih dari 10000!</i>"
      ],
      "metadata": {
        "id": "hqlY2Q58kAyC"
      }
    },
    {
      "cell_type": "code",
      "source": [
        "# Proses filter dengan style penulisan 1\n",
        "data_loan_morethan_10k = data_loan.filter('loan_amnt > 10000')\n",
        "\n",
        "# Tampilkan hasilnya\n",
        "data_loan_morethan_10k.show(5)"
      ],
      "metadata": {
        "colab": {
          "base_uri": "https://localhost:8080/"
        },
        "id": "BTVeLJYNgj3Q",
        "outputId": "630305a2-e5dc-4702-b41b-cb4f6380987e"
      },
      "execution_count": null,
      "outputs": [
        {
          "output_type": "stream",
          "name": "stdout",
          "text": [
            "+-------+---------+---------+-----------+---------------+----------+--------+-----------+-----+---------+--------------------+----------+--------------+----------+-------------------+-------+-----------+----------+--------------------+--------------------+------------------+--------------------+--------+----------+-----+-----------+----------------+--------------+----------------------+----------------------+--------+-------+---------+----------+---------+-------------------+---------+-------------+-----------+---------------+---------------+-------------+------------------+----------+-----------------------+------------+---------------+------------+------------------+--------------------------+---------------------------+-----------+----------------+----------------+---------+-------------------------+--------------+------------+-----------+-----------+----------+-----------+-----------+------------------+------------+-------+-----------+-----------+----------+--------+----------------+------+-----------+------------+--------------------+-----------+--------------+-------+------------------------+-----------+------------------+--------------------+---------------------+--------------+--------+--------------------+------------------------+---------------------+------------------------------+---------------------+--------------+---------------+-----------+---------+---------+-------------+-------------+-------------------+--------+----------------+------------+------------------+------------------+--------------+----------------+--------------------+---------+---------------+-----------------+--------------+--------------------------+\n",
            "|     id|member_id|loan_amnt|funded_amnt|funded_amnt_inv|      term|int_rate|installment|grade|sub_grade|           emp_title|emp_length|home_ownership|annual_inc|verification_status|issue_d|loan_status|pymnt_plan|                 url|                desc|           purpose|               title|zip_code|addr_state|  dti|delinq_2yrs|earliest_cr_line|inq_last_6mths|mths_since_last_delinq|mths_since_last_record|open_acc|pub_rec|revol_bal|revol_util|total_acc|initial_list_status|out_prncp|out_prncp_inv|total_pymnt|total_pymnt_inv|total_rec_prncp|total_rec_int|total_rec_late_fee|recoveries|collection_recovery_fee|last_pymnt_d|last_pymnt_amnt|next_pymnt_d|last_credit_pull_d|collections_12_mths_ex_med|mths_since_last_major_derog|policy_code|application_type|annual_inc_joint|dti_joint|verification_status_joint|acc_now_delinq|tot_coll_amt|tot_cur_bal|open_acc_6m|open_il_6m|open_il_12m|open_il_24m|mths_since_rcnt_il|total_bal_il|il_util|open_rv_12m|open_rv_24m|max_bal_bc|all_util|total_rev_hi_lim|inq_fi|total_cu_tl|inq_last_12m|acc_open_past_24mths|avg_cur_bal|bc_open_to_buy|bc_util|chargeoff_within_12_mths|delinq_amnt|mo_sin_old_il_acct|mo_sin_old_rev_tl_op|mo_sin_rcnt_rev_tl_op|mo_sin_rcnt_tl|mort_acc|mths_since_recent_bc|mths_since_recent_bc_dlq|mths_since_recent_inq|mths_since_recent_revol_delinq|num_accts_ever_120_pd|num_actv_bc_tl|num_actv_rev_tl|num_bc_sats|num_bc_tl|num_il_tl|num_op_rev_tl|num_rev_accts|num_rev_tl_bal_gt_0|num_sats|num_tl_120dpd_2m|num_tl_30dpd|num_tl_90g_dpd_24m|num_tl_op_past_12m|pct_tl_nvr_dlq|percent_bc_gt_75|pub_rec_bankruptcies|tax_liens|tot_hi_cred_lim|total_bal_ex_mort|total_bc_limit|total_il_high_credit_limit|\n",
            "+-------+---------+---------+-----------+---------------+----------+--------+-----------+-----+---------+--------------------+----------+--------------+----------+-------------------+-------+-----------+----------+--------------------+--------------------+------------------+--------------------+--------+----------+-----+-----------+----------------+--------------+----------------------+----------------------+--------+-------+---------+----------+---------+-------------------+---------+-------------+-----------+---------------+---------------+-------------+------------------+----------+-----------------------+------------+---------------+------------+------------------+--------------------------+---------------------------+-----------+----------------+----------------+---------+-------------------------+--------------+------------+-----------+-----------+----------+-----------+-----------+------------------+------------+-------+-----------+-----------+----------+--------+----------------+------+-----------+------------+--------------------+-----------+--------------+-------+------------------------+-----------+------------------+--------------------+---------------------+--------------+--------+--------------------+------------------------+---------------------+------------------------------+---------------------+--------------+---------------+-----------+---------+---------+-------------+-------------+-------------------+--------+----------------+------------+------------------+------------------+--------------+----------------+--------------------+---------+---------------+-----------------+--------------+--------------------------+\n",
            "|1069908|  1305008|    12000|      12000|        12000.0| 36 months|  12.69%|     402.54|    B|       B5|                UCLA| 10+ years|           OWN|   75000.0|    Source Verified| Dec-11| Fully Paid|         n|https://lendingcl...|                    |debt_consolidation|       Consolidation|   913xx|        CA|10.78|          0|          Oct-89|             0|                  NULL|                  NULL|      12|      0|    23336|    67.10%|       34|                  f|        0|            0|13947.98916|       13947.99|          12000|      1947.99|                 0|         0|                      0|      Sep-13|         6315.3|            |            Aug-13|                         0|                       NULL|          1|      INDIVIDUAL|            NULL|     NULL|                     NULL|             0|        NULL|       NULL|       NULL|      NULL|       NULL|       NULL|              NULL|        NULL|   NULL|       NULL|       NULL|      NULL|    NULL|            NULL|  NULL|       NULL|        NULL|                NULL|       NULL|          NULL|   NULL|                       0|          0|              NULL|                NULL|                 NULL|          NULL|    NULL|                NULL|                    NULL|                 NULL|                          NULL|                 NULL|          NULL|           NULL|       NULL|     NULL|     NULL|         NULL|         NULL|               NULL|    NULL|            NULL|        NULL|              NULL|              NULL|          NULL|            NULL|                   0|        0|           NULL|             NULL|          NULL|                      NULL|\n",
            "|1069740|  1284848|    20250|      20250|    19142.16108| 60 months|  15.27%|     484.63|    C|       C4|Archdiocese of Ga...|   3 years|          RENT|   43370.0|           Verified| Dec-11| Fully Paid|         n|https://lendingcl...|After amassing cr...|debt_consolidation|Freedom From Cred...|   770xx|        TX|26.53|          0|          Nov-97|             3|                  NULL|                  NULL|       8|      0|    17813|    85.60%|       22|                  f|        0|            0|   27679.05|        25433.6|          20250|      7429.05|                 0|         0|                      0|      Aug-15|        6024.09|            |            Mar-16|                         0|                       NULL|          1|      INDIVIDUAL|            NULL|     NULL|                     NULL|             0|        NULL|       NULL|       NULL|      NULL|       NULL|       NULL|              NULL|        NULL|   NULL|       NULL|       NULL|      NULL|    NULL|            NULL|  NULL|       NULL|        NULL|                NULL|       NULL|          NULL|   NULL|                       0|          0|              NULL|                NULL|                 NULL|          NULL|    NULL|                NULL|                    NULL|                 NULL|                          NULL|                 NULL|          NULL|           NULL|       NULL|     NULL|     NULL|         NULL|         NULL|               NULL|    NULL|            NULL|        NULL|              NULL|              NULL|          NULL|            NULL|                   0|        0|           NULL|             NULL|          NULL|                      NULL|\n",
            "|1039153|  1269083|    21000|      21000|        21000.0| 36 months|  12.42%|     701.73|    B|       B4|      Osram Sylvania| 10+ years|          RENT|  105000.0|           Verified| Dec-11|Charged Off|         n|https://lendingcl...|  Borrower added ...|debt_consolidation|        Debt Cleanup|   335xx|        FL|13.22|          0|          Feb-83|             0|                  NULL|                  NULL|       7|      0|    32135|    90.30%|       38|                  f|        0|            0|    14025.4|        14025.4|       10694.96|      3330.44|                 0|         0|                      0|      Sep-13|         701.73|            |            May-16|                         0|                       NULL|          1|      INDIVIDUAL|            NULL|     NULL|                     NULL|             0|        NULL|       NULL|       NULL|      NULL|       NULL|       NULL|              NULL|        NULL|   NULL|       NULL|       NULL|      NULL|    NULL|            NULL|  NULL|       NULL|        NULL|                NULL|       NULL|          NULL|   NULL|                       0|          0|              NULL|                NULL|                 NULL|          NULL|    NULL|                NULL|                    NULL|                 NULL|                          NULL|                 NULL|          NULL|           NULL|       NULL|     NULL|     NULL|         NULL|         NULL|               NULL|    NULL|            NULL|        NULL|              NULL|              NULL|          NULL|            NULL|                   0|        0|           NULL|             NULL|          NULL|                      NULL|\n",
            "|1069697|  1273773|    15000|      15000|        15000.0| 36 months|   9.91%|     483.38|    B|       B1|Winfield Patholog...|   2 years|      MORTGAGE|   92000.0|           Verified| Dec-11| Fully Paid|         n|https://lendingcl...|                    |       credit_card|No more credit ca...|   605xx|        IL|29.44|          0|          Feb-02|             0|                  NULL|                  NULL|       8|      0|    13707|    93.90%|       31|                  f|        0|            0|15823.99905|          15824|          15000|          824|                 0|         0|                      0|      Sep-12|        2447.05|            |            Sep-12|                         0|                       NULL|          1|      INDIVIDUAL|            NULL|     NULL|                     NULL|             0|        NULL|       NULL|       NULL|      NULL|       NULL|       NULL|              NULL|        NULL|   NULL|       NULL|       NULL|      NULL|    NULL|            NULL|  NULL|       NULL|        NULL|                NULL|       NULL|          NULL|   NULL|                       0|          0|              NULL|                NULL|                 NULL|          NULL|    NULL|                NULL|                    NULL|                 NULL|                          NULL|                 NULL|          NULL|           NULL|       NULL|     NULL|     NULL|         NULL|         NULL|               NULL|    NULL|            NULL|        NULL|              NULL|              NULL|          NULL|            NULL|                   0|        0|           NULL|             NULL|          NULL|                      NULL|\n",
            "|1069800|  1304679|    15000|      15000|         8725.0| 36 months|  14.27%|     514.64|    C|       C2|         nyc transit|   9 years|          RENT|   60000.0|       Not Verified| Dec-11|Charged Off|         n|https://lendingcl...|  Borrower added ...|debt_consolidation|       consolidation|   103xx|        NY|15.22|          0|          Oct-03|             1|                  NULL|                  NULL|       7|      0|     5872|    57.60%|       11|                  f|        0|            0|          0|              0|              0|            0|                 0|         0|                      0|            |              0|            |            May-16|                         0|                       NULL|          1|      INDIVIDUAL|            NULL|     NULL|                     NULL|             0|        NULL|       NULL|       NULL|      NULL|       NULL|       NULL|              NULL|        NULL|   NULL|       NULL|       NULL|      NULL|    NULL|            NULL|  NULL|       NULL|        NULL|                NULL|       NULL|          NULL|   NULL|                       0|          0|              NULL|                NULL|                 NULL|          NULL|    NULL|                NULL|                    NULL|                 NULL|                          NULL|                 NULL|          NULL|           NULL|       NULL|     NULL|     NULL|         NULL|         NULL|               NULL|    NULL|            NULL|        NULL|              NULL|              NULL|          NULL|            NULL|                   0|        0|           NULL|             NULL|          NULL|                      NULL|\n",
            "+-------+---------+---------+-----------+---------------+----------+--------+-----------+-----+---------+--------------------+----------+--------------+----------+-------------------+-------+-----------+----------+--------------------+--------------------+------------------+--------------------+--------+----------+-----+-----------+----------------+--------------+----------------------+----------------------+--------+-------+---------+----------+---------+-------------------+---------+-------------+-----------+---------------+---------------+-------------+------------------+----------+-----------------------+------------+---------------+------------+------------------+--------------------------+---------------------------+-----------+----------------+----------------+---------+-------------------------+--------------+------------+-----------+-----------+----------+-----------+-----------+------------------+------------+-------+-----------+-----------+----------+--------+----------------+------+-----------+------------+--------------------+-----------+--------------+-------+------------------------+-----------+------------------+--------------------+---------------------+--------------+--------+--------------------+------------------------+---------------------+------------------------------+---------------------+--------------+---------------+-----------+---------+---------+-------------+-------------+-------------------+--------+----------------+------------+------------------+------------------+--------------+----------------+--------------------+---------+---------------+-----------------+--------------+--------------------------+\n",
            "only showing top 5 rows\n",
            "\n"
          ]
        }
      ]
    },
    {
      "cell_type": "code",
      "source": [
        "# Proses filter dengan style penulisan 2\n",
        "data_loan_morethan_10k = data_loan.filter(data_loan['loan_amnt'] > 10000)\n",
        "\n",
        "# Tampilkan hasilnya\n",
        "data_loan_morethan_10k.show(5)"
      ],
      "metadata": {
        "colab": {
          "base_uri": "https://localhost:8080/"
        },
        "id": "BOzTsGYkksCB",
        "outputId": "b2827f0a-cb75-4f2c-9bff-a3ba830dde6d"
      },
      "execution_count": null,
      "outputs": [
        {
          "output_type": "stream",
          "name": "stdout",
          "text": [
            "+-------+---------+---------+-----------+---------------+----------+--------+-----------+-----+---------+--------------------+----------+--------------+----------+-------------------+-------+-----------+----------+--------------------+--------------------+------------------+--------------------+--------+----------+-----+-----------+----------------+--------------+----------------------+----------------------+--------+-------+---------+----------+---------+-------------------+---------+-------------+-----------+---------------+---------------+-------------+------------------+----------+-----------------------+------------+---------------+------------+------------------+--------------------------+---------------------------+-----------+----------------+----------------+---------+-------------------------+--------------+------------+-----------+-----------+----------+-----------+-----------+------------------+------------+-------+-----------+-----------+----------+--------+----------------+------+-----------+------------+--------------------+-----------+--------------+-------+------------------------+-----------+------------------+--------------------+---------------------+--------------+--------+--------------------+------------------------+---------------------+------------------------------+---------------------+--------------+---------------+-----------+---------+---------+-------------+-------------+-------------------+--------+----------------+------------+------------------+------------------+--------------+----------------+--------------------+---------+---------------+-----------------+--------------+--------------------------+\n",
            "|     id|member_id|loan_amnt|funded_amnt|funded_amnt_inv|      term|int_rate|installment|grade|sub_grade|           emp_title|emp_length|home_ownership|annual_inc|verification_status|issue_d|loan_status|pymnt_plan|                 url|                desc|           purpose|               title|zip_code|addr_state|  dti|delinq_2yrs|earliest_cr_line|inq_last_6mths|mths_since_last_delinq|mths_since_last_record|open_acc|pub_rec|revol_bal|revol_util|total_acc|initial_list_status|out_prncp|out_prncp_inv|total_pymnt|total_pymnt_inv|total_rec_prncp|total_rec_int|total_rec_late_fee|recoveries|collection_recovery_fee|last_pymnt_d|last_pymnt_amnt|next_pymnt_d|last_credit_pull_d|collections_12_mths_ex_med|mths_since_last_major_derog|policy_code|application_type|annual_inc_joint|dti_joint|verification_status_joint|acc_now_delinq|tot_coll_amt|tot_cur_bal|open_acc_6m|open_il_6m|open_il_12m|open_il_24m|mths_since_rcnt_il|total_bal_il|il_util|open_rv_12m|open_rv_24m|max_bal_bc|all_util|total_rev_hi_lim|inq_fi|total_cu_tl|inq_last_12m|acc_open_past_24mths|avg_cur_bal|bc_open_to_buy|bc_util|chargeoff_within_12_mths|delinq_amnt|mo_sin_old_il_acct|mo_sin_old_rev_tl_op|mo_sin_rcnt_rev_tl_op|mo_sin_rcnt_tl|mort_acc|mths_since_recent_bc|mths_since_recent_bc_dlq|mths_since_recent_inq|mths_since_recent_revol_delinq|num_accts_ever_120_pd|num_actv_bc_tl|num_actv_rev_tl|num_bc_sats|num_bc_tl|num_il_tl|num_op_rev_tl|num_rev_accts|num_rev_tl_bal_gt_0|num_sats|num_tl_120dpd_2m|num_tl_30dpd|num_tl_90g_dpd_24m|num_tl_op_past_12m|pct_tl_nvr_dlq|percent_bc_gt_75|pub_rec_bankruptcies|tax_liens|tot_hi_cred_lim|total_bal_ex_mort|total_bc_limit|total_il_high_credit_limit|\n",
            "+-------+---------+---------+-----------+---------------+----------+--------+-----------+-----+---------+--------------------+----------+--------------+----------+-------------------+-------+-----------+----------+--------------------+--------------------+------------------+--------------------+--------+----------+-----+-----------+----------------+--------------+----------------------+----------------------+--------+-------+---------+----------+---------+-------------------+---------+-------------+-----------+---------------+---------------+-------------+------------------+----------+-----------------------+------------+---------------+------------+------------------+--------------------------+---------------------------+-----------+----------------+----------------+---------+-------------------------+--------------+------------+-----------+-----------+----------+-----------+-----------+------------------+------------+-------+-----------+-----------+----------+--------+----------------+------+-----------+------------+--------------------+-----------+--------------+-------+------------------------+-----------+------------------+--------------------+---------------------+--------------+--------+--------------------+------------------------+---------------------+------------------------------+---------------------+--------------+---------------+-----------+---------+---------+-------------+-------------+-------------------+--------+----------------+------------+------------------+------------------+--------------+----------------+--------------------+---------+---------------+-----------------+--------------+--------------------------+\n",
            "|1069908|  1305008|    12000|      12000|        12000.0| 36 months|  12.69%|     402.54|    B|       B5|                UCLA| 10+ years|           OWN|   75000.0|    Source Verified| Dec-11| Fully Paid|         n|https://lendingcl...|                    |debt_consolidation|       Consolidation|   913xx|        CA|10.78|          0|          Oct-89|             0|                  NULL|                  NULL|      12|      0|    23336|    67.10%|       34|                  f|        0|            0|13947.98916|       13947.99|          12000|      1947.99|                 0|         0|                      0|      Sep-13|         6315.3|            |            Aug-13|                         0|                       NULL|          1|      INDIVIDUAL|            NULL|     NULL|                     NULL|             0|        NULL|       NULL|       NULL|      NULL|       NULL|       NULL|              NULL|        NULL|   NULL|       NULL|       NULL|      NULL|    NULL|            NULL|  NULL|       NULL|        NULL|                NULL|       NULL|          NULL|   NULL|                       0|          0|              NULL|                NULL|                 NULL|          NULL|    NULL|                NULL|                    NULL|                 NULL|                          NULL|                 NULL|          NULL|           NULL|       NULL|     NULL|     NULL|         NULL|         NULL|               NULL|    NULL|            NULL|        NULL|              NULL|              NULL|          NULL|            NULL|                   0|        0|           NULL|             NULL|          NULL|                      NULL|\n",
            "|1069740|  1284848|    20250|      20250|    19142.16108| 60 months|  15.27%|     484.63|    C|       C4|Archdiocese of Ga...|   3 years|          RENT|   43370.0|           Verified| Dec-11| Fully Paid|         n|https://lendingcl...|After amassing cr...|debt_consolidation|Freedom From Cred...|   770xx|        TX|26.53|          0|          Nov-97|             3|                  NULL|                  NULL|       8|      0|    17813|    85.60%|       22|                  f|        0|            0|   27679.05|        25433.6|          20250|      7429.05|                 0|         0|                      0|      Aug-15|        6024.09|            |            Mar-16|                         0|                       NULL|          1|      INDIVIDUAL|            NULL|     NULL|                     NULL|             0|        NULL|       NULL|       NULL|      NULL|       NULL|       NULL|              NULL|        NULL|   NULL|       NULL|       NULL|      NULL|    NULL|            NULL|  NULL|       NULL|        NULL|                NULL|       NULL|          NULL|   NULL|                       0|          0|              NULL|                NULL|                 NULL|          NULL|    NULL|                NULL|                    NULL|                 NULL|                          NULL|                 NULL|          NULL|           NULL|       NULL|     NULL|     NULL|         NULL|         NULL|               NULL|    NULL|            NULL|        NULL|              NULL|              NULL|          NULL|            NULL|                   0|        0|           NULL|             NULL|          NULL|                      NULL|\n",
            "|1039153|  1269083|    21000|      21000|        21000.0| 36 months|  12.42%|     701.73|    B|       B4|      Osram Sylvania| 10+ years|          RENT|  105000.0|           Verified| Dec-11|Charged Off|         n|https://lendingcl...|  Borrower added ...|debt_consolidation|        Debt Cleanup|   335xx|        FL|13.22|          0|          Feb-83|             0|                  NULL|                  NULL|       7|      0|    32135|    90.30%|       38|                  f|        0|            0|    14025.4|        14025.4|       10694.96|      3330.44|                 0|         0|                      0|      Sep-13|         701.73|            |            May-16|                         0|                       NULL|          1|      INDIVIDUAL|            NULL|     NULL|                     NULL|             0|        NULL|       NULL|       NULL|      NULL|       NULL|       NULL|              NULL|        NULL|   NULL|       NULL|       NULL|      NULL|    NULL|            NULL|  NULL|       NULL|        NULL|                NULL|       NULL|          NULL|   NULL|                       0|          0|              NULL|                NULL|                 NULL|          NULL|    NULL|                NULL|                    NULL|                 NULL|                          NULL|                 NULL|          NULL|           NULL|       NULL|     NULL|     NULL|         NULL|         NULL|               NULL|    NULL|            NULL|        NULL|              NULL|              NULL|          NULL|            NULL|                   0|        0|           NULL|             NULL|          NULL|                      NULL|\n",
            "|1069697|  1273773|    15000|      15000|        15000.0| 36 months|   9.91%|     483.38|    B|       B1|Winfield Patholog...|   2 years|      MORTGAGE|   92000.0|           Verified| Dec-11| Fully Paid|         n|https://lendingcl...|                    |       credit_card|No more credit ca...|   605xx|        IL|29.44|          0|          Feb-02|             0|                  NULL|                  NULL|       8|      0|    13707|    93.90%|       31|                  f|        0|            0|15823.99905|          15824|          15000|          824|                 0|         0|                      0|      Sep-12|        2447.05|            |            Sep-12|                         0|                       NULL|          1|      INDIVIDUAL|            NULL|     NULL|                     NULL|             0|        NULL|       NULL|       NULL|      NULL|       NULL|       NULL|              NULL|        NULL|   NULL|       NULL|       NULL|      NULL|    NULL|            NULL|  NULL|       NULL|        NULL|                NULL|       NULL|          NULL|   NULL|                       0|          0|              NULL|                NULL|                 NULL|          NULL|    NULL|                NULL|                    NULL|                 NULL|                          NULL|                 NULL|          NULL|           NULL|       NULL|     NULL|     NULL|         NULL|         NULL|               NULL|    NULL|            NULL|        NULL|              NULL|              NULL|          NULL|            NULL|                   0|        0|           NULL|             NULL|          NULL|                      NULL|\n",
            "|1069800|  1304679|    15000|      15000|         8725.0| 36 months|  14.27%|     514.64|    C|       C2|         nyc transit|   9 years|          RENT|   60000.0|       Not Verified| Dec-11|Charged Off|         n|https://lendingcl...|  Borrower added ...|debt_consolidation|       consolidation|   103xx|        NY|15.22|          0|          Oct-03|             1|                  NULL|                  NULL|       7|      0|     5872|    57.60%|       11|                  f|        0|            0|          0|              0|              0|            0|                 0|         0|                      0|            |              0|            |            May-16|                         0|                       NULL|          1|      INDIVIDUAL|            NULL|     NULL|                     NULL|             0|        NULL|       NULL|       NULL|      NULL|       NULL|       NULL|              NULL|        NULL|   NULL|       NULL|       NULL|      NULL|    NULL|            NULL|  NULL|       NULL|        NULL|                NULL|       NULL|          NULL|   NULL|                       0|          0|              NULL|                NULL|                 NULL|          NULL|    NULL|                NULL|                    NULL|                 NULL|                          NULL|                 NULL|          NULL|           NULL|       NULL|     NULL|     NULL|         NULL|         NULL|               NULL|    NULL|            NULL|        NULL|              NULL|              NULL|          NULL|            NULL|                   0|        0|           NULL|             NULL|          NULL|                      NULL|\n",
            "+-------+---------+---------+-----------+---------------+----------+--------+-----------+-----+---------+--------------------+----------+--------------+----------+-------------------+-------+-----------+----------+--------------------+--------------------+------------------+--------------------+--------+----------+-----+-----------+----------------+--------------+----------------------+----------------------+--------+-------+---------+----------+---------+-------------------+---------+-------------+-----------+---------------+---------------+-------------+------------------+----------+-----------------------+------------+---------------+------------+------------------+--------------------------+---------------------------+-----------+----------------+----------------+---------+-------------------------+--------------+------------+-----------+-----------+----------+-----------+-----------+------------------+------------+-------+-----------+-----------+----------+--------+----------------+------+-----------+------------+--------------------+-----------+--------------+-------+------------------------+-----------+------------------+--------------------+---------------------+--------------+--------+--------------------+------------------------+---------------------+------------------------------+---------------------+--------------+---------------+-----------+---------+---------+-------------+-------------+-------------------+--------+----------------+------------+------------------+------------------+--------------+----------------+--------------------+---------+---------------+-----------------+--------------+--------------------------+\n",
            "only showing top 5 rows\n",
            "\n"
          ]
        }
      ]
    },
    {
      "cell_type": "markdown",
      "source": [
        "> <b>Quest 2</b> : <i>Tampilkan semua data yang loan amount nya lebih dari 10000 dengan status gradenya A!</i>"
      ],
      "metadata": {
        "id": "72TAUogWleau"
      }
    },
    {
      "cell_type": "code",
      "source": [
        "# Buat kondisi\n",
        "condition1 = (data_loan['loan_amnt'] > 10000)\n",
        "condition2 = (data_loan['grade'] == 'A')\n",
        "\n",
        "# Lakukan filter dengan dua kondisi\n",
        "data_loan_filtered = data_loan.filter(condition1 & condition2)\n",
        "\n",
        "# Tampilkan hasil\n",
        "data_loan_filtered.show(5)"
      ],
      "metadata": {
        "colab": {
          "base_uri": "https://localhost:8080/"
        },
        "id": "Q1FZDvdRmg7R",
        "outputId": "caa33fac-e15a-4b4c-bd02-1a7f8018736c"
      },
      "execution_count": null,
      "outputs": [
        {
          "output_type": "stream",
          "name": "stdout",
          "text": [
            "+-------+---------+---------+-----------+---------------+----------+--------+-----------+-----+---------+--------------------+----------+--------------+----------+-------------------+-------+-----------+----------+--------------------+--------------------+------------------+--------------------+--------+----------+-----+-----------+----------------+--------------+----------------------+----------------------+--------+-------+---------+----------+---------+-------------------+---------+-------------+-----------+---------------+---------------+-------------+------------------+----------+-----------------------+------------+---------------+------------+------------------+--------------------------+---------------------------+-----------+----------------+----------------+---------+-------------------------+--------------+------------+-----------+-----------+----------+-----------+-----------+------------------+------------+-------+-----------+-----------+----------+--------+----------------+------+-----------+------------+--------------------+-----------+--------------+-------+------------------------+-----------+------------------+--------------------+---------------------+--------------+--------+--------------------+------------------------+---------------------+------------------------------+---------------------+--------------+---------------+-----------+---------+---------+-------------+-------------+-------------------+--------+----------------+------------+------------------+------------------+--------------+----------------+--------------------+---------+---------------+-----------------+--------------+--------------------------+\n",
            "|     id|member_id|loan_amnt|funded_amnt|funded_amnt_inv|      term|int_rate|installment|grade|sub_grade|           emp_title|emp_length|home_ownership|annual_inc|verification_status|issue_d|loan_status|pymnt_plan|                 url|                desc|           purpose|               title|zip_code|addr_state|  dti|delinq_2yrs|earliest_cr_line|inq_last_6mths|mths_since_last_delinq|mths_since_last_record|open_acc|pub_rec|revol_bal|revol_util|total_acc|initial_list_status|out_prncp|out_prncp_inv|total_pymnt|total_pymnt_inv|total_rec_prncp|total_rec_int|total_rec_late_fee|recoveries|collection_recovery_fee|last_pymnt_d|last_pymnt_amnt|next_pymnt_d|last_credit_pull_d|collections_12_mths_ex_med|mths_since_last_major_derog|policy_code|application_type|annual_inc_joint|dti_joint|verification_status_joint|acc_now_delinq|tot_coll_amt|tot_cur_bal|open_acc_6m|open_il_6m|open_il_12m|open_il_24m|mths_since_rcnt_il|total_bal_il|il_util|open_rv_12m|open_rv_24m|max_bal_bc|all_util|total_rev_hi_lim|inq_fi|total_cu_tl|inq_last_12m|acc_open_past_24mths|avg_cur_bal|bc_open_to_buy|bc_util|chargeoff_within_12_mths|delinq_amnt|mo_sin_old_il_acct|mo_sin_old_rev_tl_op|mo_sin_rcnt_rev_tl_op|mo_sin_rcnt_tl|mort_acc|mths_since_recent_bc|mths_since_recent_bc_dlq|mths_since_recent_inq|mths_since_recent_revol_delinq|num_accts_ever_120_pd|num_actv_bc_tl|num_actv_rev_tl|num_bc_sats|num_bc_tl|num_il_tl|num_op_rev_tl|num_rev_accts|num_rev_tl_bal_gt_0|num_sats|num_tl_120dpd_2m|num_tl_30dpd|num_tl_90g_dpd_24m|num_tl_op_past_12m|pct_tl_nvr_dlq|percent_bc_gt_75|pub_rec_bankruptcies|tax_liens|tot_hi_cred_lim|total_bal_ex_mort|total_bc_limit|total_il_high_credit_limit|\n",
            "+-------+---------+---------+-----------+---------------+----------+--------+-----------+-----+---------+--------------------+----------+--------------+----------+-------------------+-------+-----------+----------+--------------------+--------------------+------------------+--------------------+--------+----------+-----+-----------+----------------+--------------+----------------------+----------------------+--------+-------+---------+----------+---------+-------------------+---------+-------------+-----------+---------------+---------------+-------------+------------------+----------+-----------------------+------------+---------------+------------+------------------+--------------------------+---------------------------+-----------+----------------+----------------+---------+-------------------------+--------------+------------+-----------+-----------+----------+-----------+-----------+------------------+------------+-------+-----------+-----------+----------+--------+----------------+------+-----------+------------+--------------------+-----------+--------------+-------+------------------------+-----------+------------------+--------------------+---------------------+--------------+--------+--------------------+------------------------+---------------------+------------------------------+---------------------+--------------+---------------+-----------+---------+---------+-------------+-------------+-------------------+--------+----------------+------------+------------------+------------------+--------------+----------------+--------------------+---------+---------------+-----------------+--------------+--------------------------+\n",
            "|1069539|  1304608|    31825|      31825|        31825.0| 36 months|   7.90%|     995.82|    A|       A4|Audubon Mutual Ho...|   5 years|      MORTGAGE|   75000.0|           Verified| Dec-11| Fully Paid|         n|https://lendingcl...|  Borrower added ...|debt_consolidation|Debt Consolidatio...|   080xx|        NJ|14.03|          0|          Nov-81|             0|                  NULL|                  NULL|      12|      0|    23151|    27.40%|       26|                  f|        0|            0|34886.91378|       34886.91|          31825|      3061.91|                 0|         0|                      0|      Aug-13|        16966.7|            |            Feb-16|                         0|                       NULL|          1|      INDIVIDUAL|            NULL|     NULL|                     NULL|             0|        NULL|       NULL|       NULL|      NULL|       NULL|       NULL|              NULL|        NULL|   NULL|       NULL|       NULL|      NULL|    NULL|            NULL|  NULL|       NULL|        NULL|                NULL|       NULL|          NULL|   NULL|                       0|          0|              NULL|                NULL|                 NULL|          NULL|    NULL|                NULL|                    NULL|                 NULL|                          NULL|                 NULL|          NULL|           NULL|       NULL|     NULL|     NULL|         NULL|         NULL|               NULL|    NULL|            NULL|        NULL|              NULL|              NULL|          NULL|            NULL|                   0|        0|           NULL|             NULL|          NULL|                      NULL|\n",
            "|1069357|  1304251|    15000|      15000|        15000.0| 36 months|   7.90%|     469.36|    A|       A4|     Gateway Hospice|    1 year|          RENT|   45000.0|           Verified| Dec-11| Fully Paid|         n|https://lendingcl...|  Borrower added ...|debt_consolidation|Debt Consolidatio...|   445xx|        OH| 8.48|          0|          Nov-04|             0|                  NULL|                  NULL|       7|      0|     6704|    50.40%|       27|                  f|        0|            0|16663.34403|       16663.34|          15000|      1663.34|                 0|         0|                      0|      Jan-14|         5872.8|            |            May-16|                         0|                       NULL|          1|      INDIVIDUAL|            NULL|     NULL|                     NULL|             0|        NULL|       NULL|       NULL|      NULL|       NULL|       NULL|              NULL|        NULL|   NULL|       NULL|       NULL|      NULL|    NULL|            NULL|  NULL|       NULL|        NULL|                NULL|       NULL|          NULL|   NULL|                       0|          0|              NULL|                NULL|                 NULL|          NULL|    NULL|                NULL|                    NULL|                 NULL|                          NULL|                 NULL|          NULL|           NULL|       NULL|     NULL|     NULL|         NULL|         NULL|               NULL|    NULL|            NULL|        NULL|              NULL|              NULL|          NULL|            NULL|                   0|        0|           NULL|             NULL|          NULL|                      NULL|\n",
            "|1069506|  1304567|    12000|      12000|        12000.0| 36 months|   7.90%|     375.49|    A|       A4|      John Wiley Jr.| 10+ years|          RENT|   62300.0|       Not Verified| Dec-11| Fully Paid|         n|https://lendingcl...|  Borrower added ...|debt_consolidation|  Debt Consolidation|   088xx|        NJ| 16.7|          0|          Mar-94|             0|                    38|                  NULL|      15|      0|     8601|       21%|       25|                  f|        0|            0|   13517.36|       13517.36|          12000|      1517.36|                 0|         0|                      0|      Jan-15|         380.98|            |            May-16|                         0|                       NULL|          1|      INDIVIDUAL|            NULL|     NULL|                     NULL|             0|        NULL|       NULL|       NULL|      NULL|       NULL|       NULL|              NULL|        NULL|   NULL|       NULL|       NULL|      NULL|    NULL|            NULL|  NULL|       NULL|        NULL|                NULL|       NULL|          NULL|   NULL|                       0|          0|              NULL|                NULL|                 NULL|          NULL|    NULL|                NULL|                    NULL|                 NULL|                          NULL|                 NULL|          NULL|           NULL|       NULL|     NULL|     NULL|         NULL|         NULL|               NULL|    NULL|            NULL|        NULL|              NULL|              NULL|          NULL|            NULL|                   0|        0|           NULL|             NULL|          NULL|                      NULL|\n",
            "|1069453|  1303701|    11000|      11000|        11000.0| 36 months|   6.62%|     337.75|    A|       A2|cognizant technol...|   5 years|          RENT|   70000.0|       Not Verified| Dec-11| Fully Paid|         n|https://lendingcl...|                    |debt_consolidation| Debt Consolitation |   061xx|        CT|10.85|          0|          Jan-02|             0|                  NULL|                  NULL|       5|      0|    11638|    36.40%|        7|                  f|        0|            0|   12158.61|       12158.61|          11000|      1158.61|                 0|         0|                      0|      Jan-15|         346.13|            |            Apr-16|                         0|                       NULL|          1|      INDIVIDUAL|            NULL|     NULL|                     NULL|             0|        NULL|       NULL|       NULL|      NULL|       NULL|       NULL|              NULL|        NULL|   NULL|       NULL|       NULL|      NULL|    NULL|            NULL|  NULL|       NULL|        NULL|                NULL|       NULL|          NULL|   NULL|                       0|          0|              NULL|                NULL|                 NULL|          NULL|    NULL|                NULL|                    NULL|                 NULL|                          NULL|                 NULL|          NULL|           NULL|       NULL|     NULL|     NULL|         NULL|         NULL|               NULL|    NULL|            NULL|        NULL|              NULL|              NULL|          NULL|            NULL|                   0|        0|           NULL|             NULL|          NULL|                      NULL|\n",
            "|1068893|  1303514|    14400|      14400|        14400.0| 36 months|   8.90%|     457.25|    A|       A5|       Model Metrics|  < 1 year|           OWN|  150000.0|    Source Verified| Dec-11| Fully Paid|         n|https://lendingcl...|  Borrower added ...|debt_consolidation| Credit Payoff 14400|   146xx|        NY|14.85|          0|          Dec-94|             0|                  NULL|                  NULL|      12|      0|    63864|       55%|       38|                  f|        0|            0|   16460.85|       16460.85|          14400|      2060.85|                 0|         0|                      0|      Jan-15|         464.02|            |            Dec-14|                         0|                       NULL|          1|      INDIVIDUAL|            NULL|     NULL|                     NULL|             0|        NULL|       NULL|       NULL|      NULL|       NULL|       NULL|              NULL|        NULL|   NULL|       NULL|       NULL|      NULL|    NULL|            NULL|  NULL|       NULL|        NULL|                NULL|       NULL|          NULL|   NULL|                       0|          0|              NULL|                NULL|                 NULL|          NULL|    NULL|                NULL|                    NULL|                 NULL|                          NULL|                 NULL|          NULL|           NULL|       NULL|     NULL|     NULL|         NULL|         NULL|               NULL|    NULL|            NULL|        NULL|              NULL|              NULL|          NULL|            NULL|                   0|        0|           NULL|             NULL|          NULL|                      NULL|\n",
            "+-------+---------+---------+-----------+---------------+----------+--------+-----------+-----+---------+--------------------+----------+--------------+----------+-------------------+-------+-----------+----------+--------------------+--------------------+------------------+--------------------+--------+----------+-----+-----------+----------------+--------------+----------------------+----------------------+--------+-------+---------+----------+---------+-------------------+---------+-------------+-----------+---------------+---------------+-------------+------------------+----------+-----------------------+------------+---------------+------------+------------------+--------------------------+---------------------------+-----------+----------------+----------------+---------+-------------------------+--------------+------------+-----------+-----------+----------+-----------+-----------+------------------+------------+-------+-----------+-----------+----------+--------+----------------+------+-----------+------------+--------------------+-----------+--------------+-------+------------------------+-----------+------------------+--------------------+---------------------+--------------+--------+--------------------+------------------------+---------------------+------------------------------+---------------------+--------------+---------------+-----------+---------+---------+-------------+-------------+-------------------+--------+----------------+------------+------------------+------------------+--------------+----------------+--------------------+---------+---------------+-----------------+--------------+--------------------------+\n",
            "only showing top 5 rows\n",
            "\n"
          ]
        }
      ]
    },
    {
      "cell_type": "markdown",
      "source": [
        "## **4.2 Sorting**\n",
        "\n",
        "Menemukan data yang menarik dalam sebuah DataFrame seringkali lebih mudah jika dilakukan pengurutan baris datanya. Pengurutan dibagi menjadi dua yakni pengurutan secara `Ascending` (pengurutan naik A → Z) dan juga pengurutan secara `Descending` (pengurutan turun Z → A). Eksekusi sintaks berikut :\n",
        "\n",
        "```\n",
        "DataFrame.sort(by, ascending)\n",
        "```\n",
        "\n",
        "Jika ingin mengurutkan DataFrame pandas dengan memperhatikan argumen\n",
        "\n",
        "<ul>\n",
        "<li><b><i>by</i></b> sebagai satu atau lebih kolom yang ingin dijadikan patokan pengurutan</li>\n",
        "\n",
        "<li><b><i>ascending</i></b> dapat diisikan True jika ingin terurut naik atau False jika ingin terurut turun (dafault : True)</li>\n",
        "\n",
        "</ul><br>\n",
        "\n",
        "docs : <i>https://spark.apache.org/docs/latest/api/python/reference/pyspark.sql/api/pyspark.sql.DataFrame.sort.html</i>\n"
      ],
      "metadata": {
        "id": "cf2uijOsrddU"
      }
    },
    {
      "cell_type": "markdown",
      "source": [
        "> <b>Quest 3</b> : <i>Tampilkan data <code>member_id</code>, <code>loan_amnt</code>, <code>grade</code> dan <code>annual_inc</code> pada data pinjaman dan diurutkan berdasarkan <code>annual_inc</code> dari yang paling kecil ke yang terbesar</i>"
      ],
      "metadata": {
        "id": "PQ36nBhXsbaU"
      }
    },
    {
      "cell_type": "code",
      "source": [
        "# Proses pengurutan secara ascending pada kolom annual_inc\n",
        "data_loan \\\n",
        "  .select('member_id', 'loan_amnt', 'grade', 'annual_inc') \\\n",
        "  .sort('annual_inc', ascending = True) \\\n",
        "  .show()"
      ],
      "metadata": {
        "colab": {
          "base_uri": "https://localhost:8080/"
        },
        "id": "3vki-Tzvq8AQ",
        "outputId": "e3e6adf0-3a2e-4b63-daa4-98536028366d"
      },
      "execution_count": null,
      "outputs": [
        {
          "output_type": "stream",
          "name": "stdout",
          "text": [
            "+---------+---------+-----+----------+\n",
            "|member_id|loan_amnt|grade|annual_inc|\n",
            "+---------+---------+-----+----------+\n",
            "|   518840|     2000|    C|    4000.0|\n",
            "|   678265|     1400|    B|    4080.0|\n",
            "|   647711|     1200|    C|    4200.0|\n",
            "|   381474|     2750|    E|    4200.0|\n",
            "|   728097|     1800|    D|    4800.0|\n",
            "|   673328|     2000|    B|    4800.0|\n",
            "|   562099|     1200|    C|    4800.0|\n",
            "|   449996|     2400|    E|    4800.0|\n",
            "|   507853|     1400|    C|    4888.0|\n",
            "|   184901|     1000|    B|    5000.0|\n",
            "|   440811|     1000|    A|    5500.0|\n",
            "|  1232192|     1300|    A|    6000.0|\n",
            "|   674234|     1000|    D|    6000.0|\n",
            "|   941800|     1050|    A|    6000.0|\n",
            "|   551624|     3250|    A|    6000.0|\n",
            "|   556182|     1600|    D|    6000.0|\n",
            "|   512743|     1000|    C|    7000.0|\n",
            "|  1186189|     2200|    B|    7200.0|\n",
            "|   643337|     2500|    C|    7200.0|\n",
            "|   790171|     3250|    B|    7200.0|\n",
            "+---------+---------+-----+----------+\n",
            "only showing top 20 rows\n",
            "\n"
          ]
        }
      ]
    },
    {
      "cell_type": "markdown",
      "source": [
        "> <b>Quest 4</b> : <i>Tampilkan data <code>member_id</code>, <code>loan_amnt</code>, <code>grade</code> dan <code>annual_inc</code> pada data pinjaman dan diurutkan berdasarkan <code>annual_inc</code> dari yang paling kecil ke yang terbesar dan urutkan juga <code>loan_amnt</code> dari yang terbesar ke yang terkecil</i>"
      ],
      "metadata": {
        "id": "nMKr9sKCuGdY"
      }
    },
    {
      "cell_type": "code",
      "source": [
        "# Proses pengurutan secara ascending pada kolom annual_inc dan secara descending pada loan_amnt\n",
        "data_loan \\\n",
        "  .select('member_id', 'loan_amnt', 'grade', 'annual_inc') \\\n",
        "  .sort(['annual_inc', 'loan_amnt'], ascending = [True, False]) \\\n",
        "  .show()"
      ],
      "metadata": {
        "colab": {
          "base_uri": "https://localhost:8080/"
        },
        "id": "19pAFspAuTRr",
        "outputId": "b79007b5-9baa-451c-d42e-e61b0a99eca0"
      },
      "execution_count": null,
      "outputs": [
        {
          "output_type": "stream",
          "name": "stdout",
          "text": [
            "+---------+---------+-----+----------+\n",
            "|member_id|loan_amnt|grade|annual_inc|\n",
            "+---------+---------+-----+----------+\n",
            "|   518840|     2000|    C|    4000.0|\n",
            "|   678265|     1400|    B|    4080.0|\n",
            "|   381474|     2750|    E|    4200.0|\n",
            "|   647711|     1200|    C|    4200.0|\n",
            "|   449996|     2400|    E|    4800.0|\n",
            "|   673328|     2000|    B|    4800.0|\n",
            "|   728097|     1800|    D|    4800.0|\n",
            "|   562099|     1200|    C|    4800.0|\n",
            "|   507853|     1400|    C|    4888.0|\n",
            "|   184901|     1000|    B|    5000.0|\n",
            "|   440811|     1000|    A|    5500.0|\n",
            "|   551624|     3250|    A|    6000.0|\n",
            "|   556182|     1600|    D|    6000.0|\n",
            "|  1232192|     1300|    A|    6000.0|\n",
            "|   941800|     1050|    A|    6000.0|\n",
            "|   674234|     1000|    D|    6000.0|\n",
            "|   512743|     1000|    C|    7000.0|\n",
            "|   790171|     3250|    B|    7200.0|\n",
            "|   643337|     2500|    C|    7200.0|\n",
            "|  1186189|     2200|    B|    7200.0|\n",
            "+---------+---------+-----+----------+\n",
            "only showing top 20 rows\n",
            "\n"
          ]
        }
      ]
    },
    {
      "cell_type": "markdown",
      "source": [
        "## **4.3 Adding New Columns**\n",
        "\n",
        "Jangan pernah terjebak hanya dengan data yang tersedia. Maka menambahkan kolom baru ke DataFrame bisa dilakukan pada spark DataFrame sehingga informasi yang diperoleh juga bisa semakin kaya.\n",
        "\n",
        "Untuk menambahkan kolom baru pada spark DataFrame gunakan sintaks\n",
        "```\n",
        "DataFrame.withColumn(colName, value)\n",
        "```\n",
        "Nilai (value) yang dimasukan bisa dilakukan dengan cara berikut :      \n",
        "* <code>lit(value_input)</code> : Jika nilai yang ditambahkan bersifat serentak dan sama (default value)\n",
        "* <code>when(condition, value1).otherwise(value2)</code> : Jika nilai yang ditambahkan dengan kondisi tertentu\n",
        "* <code>column operation</code> : Jika nilai yang ingin ditambahkan merupakan hasil operasi matematis dari kolom yang <i>existing</i>  \n",
        "<br>\n",
        "\n",
        "docs : <i>https://spark.apache.org/docs/latest/api/python/reference/pyspark.sql/api/pyspark.sql.DataFrame.withColumns.html</i>"
      ],
      "metadata": {
        "id": "IDek63cSZIv0"
      }
    },
    {
      "cell_type": "markdown",
      "source": [
        "> <b>Quest 5</b> : Pada data loan, tambahkan kolom persentase <i>debt-to-income</i> yang diberi nama 'dti_ratio' dimana kolom tersebut memuat perbandingan <code>loan_amnt</code> dengan <code>annual_inc</code>, lalu tampilkan hasilnya! (<i>gunakan pembulatan 4 angka dibelakang koma</i>)"
      ],
      "metadata": {
        "id": "EDe5Mqn4gR6h"
      }
    },
    {
      "cell_type": "code",
      "source": [
        "# Import library untuk memanggil fungsi round\n",
        "from pyspark.sql.functions import round\n",
        "\n",
        "# Proses penambahan kolom\n",
        "data_loan = data_loan.withColumn(\n",
        "    'dti_ratio',\n",
        "    round(data_loan['loan_amnt']/data_loan['annual_inc'], 4)\n",
        ")\n",
        "\n",
        "# Tampilkan hasilnya\n",
        "data_loan.select('member_id', 'loan_amnt', 'annual_inc', 'dti_ratio').show()"
      ],
      "metadata": {
        "colab": {
          "base_uri": "https://localhost:8080/"
        },
        "id": "uTIHVFGGgRg8",
        "outputId": "3bde3837-0000-4e1c-8d57-8dd354309fee"
      },
      "execution_count": null,
      "outputs": [
        {
          "output_type": "stream",
          "name": "stdout",
          "text": [
            "+---------+---------+----------+---------+\n",
            "|member_id|loan_amnt|annual_inc|dti_ratio|\n",
            "+---------+---------+----------+---------+\n",
            "|  1296599|     5000|   24000.0|   0.2083|\n",
            "|  1314167|     2500|   30000.0|   0.0833|\n",
            "|  1313524|     2400|   12252.0|   0.1959|\n",
            "|  1277178|    10000|   49200.0|   0.2033|\n",
            "|  1311748|     3000|   80000.0|   0.0375|\n",
            "|  1311441|     5000|   36000.0|   0.1389|\n",
            "|  1304742|     7000|   47004.0|   0.1489|\n",
            "|  1288686|     3000|   48000.0|   0.0625|\n",
            "|  1306957|     5600|   40000.0|     0.14|\n",
            "|  1306721|     5375|   15000.0|   0.3583|\n",
            "|  1305201|     6500|   72000.0|   0.0903|\n",
            "|  1305008|    12000|   75000.0|     0.16|\n",
            "|  1298717|     9000|   30000.0|      0.3|\n",
            "|  1304956|     3000|   15000.0|      0.2|\n",
            "|  1303503|    10000|  100000.0|      0.1|\n",
            "|  1304871|     1000|   28000.0|   0.0357|\n",
            "|  1299699|    10000|   42000.0|   0.2381|\n",
            "|  1304884|     3600|  110000.0|   0.0327|\n",
            "|  1294539|     6000|   84000.0|   0.0714|\n",
            "|  1304855|     9200|  77385.19|   0.1189|\n",
            "+---------+---------+----------+---------+\n",
            "only showing top 20 rows\n",
            "\n"
          ]
        }
      ]
    },
    {
      "cell_type": "markdown",
      "source": [
        "> <b>Quest 6</b> : Dari hasil perhitungan dti_ratio diatas buat kolom baru <code>dti_ratio_type</code> dengan ketentuan :          \n",
        "* Jika dti_ratio_type < 20% maka digolongkan 'low'\n",
        "* Jika 20% <= dti_ratio_type <= 35% maka digolongkan 'moderate'\n",
        "* Jika dti_ratio_type > 35% maka digolongkan 'high'\n",
        "<br><br>Lalu tampilkan hasilnya!\n"
      ],
      "metadata": {
        "id": "MrU4JoGTjkgT"
      }
    },
    {
      "cell_type": "code",
      "source": [
        "# Import library untuk memanggil fungsi when\n",
        "from pyspark.sql.functions import when\n",
        "\n",
        "# Membuat kolom baru berdasarkan tiga kondisi\n",
        "data_loan = data_loan.withColumn(\n",
        "    'dti_ratio_type',\n",
        "    when(data_loan['dti_ratio'] < 0.20, 'low')\\\n",
        "    .when(data_loan['dti_ratio'].between(0.20, 0.35), 'moderate')\\\n",
        "    .otherwise('high')\n",
        ")\n",
        "\n",
        "# Menampilkan DataFrame dengan kolom baru\n",
        "data_loan\\\n",
        "    .select('member_id', 'loan_amnt', 'annual_inc', 'dti_ratio', 'dti_ratio_type')\\\n",
        "    .show()"
      ],
      "metadata": {
        "colab": {
          "base_uri": "https://localhost:8080/"
        },
        "id": "Eg1p1gC0uxrV",
        "outputId": "e23ca650-d95c-4a91-d44d-ac9dbf52572e"
      },
      "execution_count": null,
      "outputs": [
        {
          "output_type": "stream",
          "name": "stdout",
          "text": [
            "+---------+---------+----------+---------+--------------+\n",
            "|member_id|loan_amnt|annual_inc|dti_ratio|dti_ratio_type|\n",
            "+---------+---------+----------+---------+--------------+\n",
            "|  1296599|     5000|   24000.0|   0.2083|      moderate|\n",
            "|  1314167|     2500|   30000.0|   0.0833|           low|\n",
            "|  1313524|     2400|   12252.0|   0.1959|           low|\n",
            "|  1277178|    10000|   49200.0|   0.2033|      moderate|\n",
            "|  1311748|     3000|   80000.0|   0.0375|           low|\n",
            "|  1311441|     5000|   36000.0|   0.1389|           low|\n",
            "|  1304742|     7000|   47004.0|   0.1489|           low|\n",
            "|  1288686|     3000|   48000.0|   0.0625|           low|\n",
            "|  1306957|     5600|   40000.0|     0.14|           low|\n",
            "|  1306721|     5375|   15000.0|   0.3583|          high|\n",
            "|  1305201|     6500|   72000.0|   0.0903|           low|\n",
            "|  1305008|    12000|   75000.0|     0.16|           low|\n",
            "|  1298717|     9000|   30000.0|      0.3|      moderate|\n",
            "|  1304956|     3000|   15000.0|      0.2|      moderate|\n",
            "|  1303503|    10000|  100000.0|      0.1|           low|\n",
            "|  1304871|     1000|   28000.0|   0.0357|           low|\n",
            "|  1299699|    10000|   42000.0|   0.2381|      moderate|\n",
            "|  1304884|     3600|  110000.0|   0.0327|           low|\n",
            "|  1294539|     6000|   84000.0|   0.0714|           low|\n",
            "|  1304855|     9200|  77385.19|   0.1189|           low|\n",
            "+---------+---------+----------+---------+--------------+\n",
            "only showing top 20 rows\n",
            "\n"
          ]
        }
      ]
    },
    {
      "cell_type": "markdown",
      "source": [
        "## **4.4 Drop Columns**\n",
        "\n",
        "Tidak semua data biasanya diolah lebih lanjut, pun demikian kadang perlu untuk melakukan efisiensi memory, menyederhanakan data, penghapusan data sensitif, dll. Sehingga perlu untuk dilakukan penghapusan kolom\n",
        "\n",
        "```\n",
        "DataFrame.drop(kolom_dihapus)\n",
        "```\n",
        "\n",
        "docs : <i>https://spark.apache.org/docs/latest/api/python/reference/pyspark.sql/api/pyspark.sql.DataFrame.drop.html</i>"
      ],
      "metadata": {
        "id": "sZ6-ftJJkeln"
      }
    },
    {
      "cell_type": "markdown",
      "source": [
        "> <b>Quest 7</b> : Pada data loan, hapus kolom <code>desc</code> dan <code>url</code>!"
      ],
      "metadata": {
        "id": "bhTejQc4RIlz"
      }
    },
    {
      "cell_type": "code",
      "source": [
        "# Proses penghapusan data\n",
        "data_loan = data_loan.drop('desc', 'url')\n",
        "\n",
        "# Tampilkan nama kolom untuk crosscheck\n",
        "print(data_loan.columns)"
      ],
      "metadata": {
        "colab": {
          "base_uri": "https://localhost:8080/"
        },
        "id": "ARnnA2MMu3XQ",
        "outputId": "09f5ccbc-43c6-4b0a-cb1a-0fcabb0c9970"
      },
      "execution_count": null,
      "outputs": [
        {
          "output_type": "stream",
          "name": "stdout",
          "text": [
            "['id', 'member_id', 'loan_amnt', 'funded_amnt', 'funded_amnt_inv', 'term', 'int_rate', 'installment', 'grade', 'sub_grade', 'emp_title', 'emp_length', 'home_ownership', 'annual_inc', 'verification_status', 'issue_d', 'loan_status', 'pymnt_plan', 'purpose', 'title', 'zip_code', 'addr_state', 'dti', 'delinq_2yrs', 'earliest_cr_line', 'inq_last_6mths', 'mths_since_last_delinq', 'mths_since_last_record', 'open_acc', 'pub_rec', 'revol_bal', 'revol_util', 'total_acc', 'initial_list_status', 'out_prncp', 'out_prncp_inv', 'total_pymnt', 'total_pymnt_inv', 'total_rec_prncp', 'total_rec_int', 'total_rec_late_fee', 'recoveries', 'collection_recovery_fee', 'last_pymnt_d', 'last_pymnt_amnt', 'next_pymnt_d', 'last_credit_pull_d', 'collections_12_mths_ex_med', 'mths_since_last_major_derog', 'policy_code', 'application_type', 'annual_inc_joint', 'dti_joint', 'verification_status_joint', 'acc_now_delinq', 'tot_coll_amt', 'tot_cur_bal', 'open_acc_6m', 'open_il_6m', 'open_il_12m', 'open_il_24m', 'mths_since_rcnt_il', 'total_bal_il', 'il_util', 'open_rv_12m', 'open_rv_24m', 'max_bal_bc', 'all_util', 'total_rev_hi_lim', 'inq_fi', 'total_cu_tl', 'inq_last_12m', 'acc_open_past_24mths', 'avg_cur_bal', 'bc_open_to_buy', 'bc_util', 'chargeoff_within_12_mths', 'delinq_amnt', 'mo_sin_old_il_acct', 'mo_sin_old_rev_tl_op', 'mo_sin_rcnt_rev_tl_op', 'mo_sin_rcnt_tl', 'mort_acc', 'mths_since_recent_bc', 'mths_since_recent_bc_dlq', 'mths_since_recent_inq', 'mths_since_recent_revol_delinq', 'num_accts_ever_120_pd', 'num_actv_bc_tl', 'num_actv_rev_tl', 'num_bc_sats', 'num_bc_tl', 'num_il_tl', 'num_op_rev_tl', 'num_rev_accts', 'num_rev_tl_bal_gt_0', 'num_sats', 'num_tl_120dpd_2m', 'num_tl_30dpd', 'num_tl_90g_dpd_24m', 'num_tl_op_past_12m', 'pct_tl_nvr_dlq', 'percent_bc_gt_75', 'pub_rec_bankruptcies', 'tax_liens', 'tot_hi_cred_lim', 'total_bal_ex_mort', 'total_bc_limit', 'total_il_high_credit_limit', 'type', 'loan_type', 'dti_ratio', 'dti_ratio_type']\n"
          ]
        }
      ]
    },
    {
      "cell_type": "markdown",
      "source": [
        "## **4.5 Rename Column**\n",
        "\n",
        "Penamaan kolom pada DataFrame spark dapat diubah sesuai kebutuhan dengan me-running sintaks\n",
        "```\n",
        "DataFrame.withColumnsRenamed({kolom_lama : kolom_baru})\n",
        "```\n",
        "docs : <i>https://spark.apache.org/docs/latest/api/python/reference/pyspark.sql/api/pyspark.sql.DataFrame.withColumnsRenamed.html</i>"
      ],
      "metadata": {
        "id": "WKwDLa5BSOdJ"
      }
    },
    {
      "cell_type": "markdown",
      "source": [
        "> <b>Quest 8</b> : Pada data loan, ubah penamaan kolom berikut :     \n",
        "\n",
        "<ol>\n",
        "  <ol>\n",
        "  <table>\n",
        "    <tr>\n",
        "      <th>Nama Kolom Awal</th>\n",
        "      <th>Nama Kolom Pengganti</th>\n",
        "    </tr>\n",
        "    <tr>\n",
        "      <td>loan_amnt</td>\n",
        "      <td>loan_amount</td>\n",
        "    </tr>\n",
        "    <tr>\n",
        "      <td>annual_inc</td>\n",
        "      <td>annual_income</td>\n",
        "    </tr>\n",
        "    <tr>\n",
        "      <td>pymnt_plan</td>\n",
        "      <td>payment_plan</td>\n",
        "    </tr>\n",
        "  </table>\n",
        "  </ol>\n",
        "</ol>\n"
      ],
      "metadata": {
        "id": "3ciAF7V5TH6K"
      }
    },
    {
      "cell_type": "code",
      "source": [
        "# Proses mengubah nama kolom\n",
        "data_loan = data_loan.withColumnsRenamed({\n",
        "    'loan_amnt' : 'loan_amount',\n",
        "    'annual_inc' : 'annual_income',\n",
        "    'pymnt_plan' : 'payment_plan'\n",
        "})\n",
        "\n",
        "# Tampilkan nama kolom untuk crosscheck\n",
        "print(data_loan.columns)"
      ],
      "metadata": {
        "colab": {
          "base_uri": "https://localhost:8080/"
        },
        "id": "pedteIcVTHHZ",
        "outputId": "f8ed1574-f4e7-4c08-c76a-8089546c7741"
      },
      "execution_count": null,
      "outputs": [
        {
          "output_type": "stream",
          "name": "stdout",
          "text": [
            "['id', 'member_id', 'loan_amount', 'funded_amnt', 'funded_amnt_inv', 'term', 'int_rate', 'installment', 'grade', 'sub_grade', 'emp_title', 'emp_length', 'home_ownership', 'annual_income', 'verification_status', 'issue_d', 'loan_status', 'payment_plan', 'url', 'desc', 'purpose', 'title', 'zip_code', 'addr_state', 'dti', 'delinq_2yrs', 'earliest_cr_line', 'inq_last_6mths', 'mths_since_last_delinq', 'mths_since_last_record', 'open_acc', 'pub_rec', 'revol_bal', 'revol_util', 'total_acc', 'initial_list_status', 'out_prncp', 'out_prncp_inv', 'total_pymnt', 'total_pymnt_inv', 'total_rec_prncp', 'total_rec_int', 'total_rec_late_fee', 'recoveries', 'collection_recovery_fee', 'last_pymnt_d', 'last_pymnt_amnt', 'next_pymnt_d', 'last_credit_pull_d', 'collections_12_mths_ex_med', 'mths_since_last_major_derog', 'policy_code', 'application_type', 'annual_inc_joint', 'dti_joint', 'verification_status_joint', 'acc_now_delinq', 'tot_coll_amt', 'tot_cur_bal', 'open_acc_6m', 'open_il_6m', 'open_il_12m', 'open_il_24m', 'mths_since_rcnt_il', 'total_bal_il', 'il_util', 'open_rv_12m', 'open_rv_24m', 'max_bal_bc', 'all_util', 'total_rev_hi_lim', 'inq_fi', 'total_cu_tl', 'inq_last_12m', 'acc_open_past_24mths', 'avg_cur_bal', 'bc_open_to_buy', 'bc_util', 'chargeoff_within_12_mths', 'delinq_amnt', 'mo_sin_old_il_acct', 'mo_sin_old_rev_tl_op', 'mo_sin_rcnt_rev_tl_op', 'mo_sin_rcnt_tl', 'mort_acc', 'mths_since_recent_bc', 'mths_since_recent_bc_dlq', 'mths_since_recent_inq', 'mths_since_recent_revol_delinq', 'num_accts_ever_120_pd', 'num_actv_bc_tl', 'num_actv_rev_tl', 'num_bc_sats', 'num_bc_tl', 'num_il_tl', 'num_op_rev_tl', 'num_rev_accts', 'num_rev_tl_bal_gt_0', 'num_sats', 'num_tl_120dpd_2m', 'num_tl_30dpd', 'num_tl_90g_dpd_24m', 'num_tl_op_past_12m', 'pct_tl_nvr_dlq', 'percent_bc_gt_75', 'pub_rec_bankruptcies', 'tax_liens', 'tot_hi_cred_lim', 'total_bal_ex_mort', 'total_bc_limit', 'total_il_high_credit_limit']\n"
          ]
        }
      ]
    },
    {
      "cell_type": "markdown",
      "source": [
        "## **4.6 Convert Data Type**\n",
        "\n",
        "Selain menambah kolom, fungsi lain dari withColumn pada Spark DataFrame juga dapat digunakan untuk mengkonversi tipe data dari sebuah kolom.\n",
        "\n",
        "Untuk dapat mengkonversi tipe data pada sebuah kolom dapat menggunakan template berikut\n",
        "\n",
        "```\n",
        "from pyspark.sql.functions import col\n",
        "\n",
        "DataFrame = DataFrame.withColumn(\n",
        "    nama_kolom,\n",
        "    col(nama_kolom).cast(tipe_data)\n",
        ")\n",
        "```"
      ],
      "metadata": {
        "id": "z06gox2OeyzN"
      }
    },
    {
      "cell_type": "markdown",
      "source": [
        "> <b>Quest 9</b> : Pada data loan, konversi kolom <code>member_id</code> yang semula mempunyai tipe data integer menjadi string! Hal ini dilakukan karena angka pada member_id merupakan sebuah kode sehingga tidak bisa dilakukan operasi matematis\n",
        "\n"
      ],
      "metadata": {
        "id": "oVteO9xKmrU3"
      }
    },
    {
      "cell_type": "code",
      "source": [
        "# Import library untuk memanggil fungsi col\n",
        "from pyspark.sql.functions import col\n",
        "\n",
        "# Proses konversi tipe data\n",
        "data_loan = data_loan.withColumn(\n",
        "    'member_id',\n",
        "    col('member_id').cast('string')\n",
        ")\n",
        "\n",
        "# Periksa Skema\n",
        "data_loan.printSchema()"
      ],
      "metadata": {
        "colab": {
          "base_uri": "https://localhost:8080/"
        },
        "id": "VNMU-pVtjpCz",
        "outputId": "4965ae5c-9977-4819-d7d1-be3af963136f"
      },
      "execution_count": null,
      "outputs": [
        {
          "output_type": "stream",
          "name": "stdout",
          "text": [
            "root\n",
            " |-- id: integer (nullable = true)\n",
            " |-- member_id: string (nullable = true)\n",
            " |-- loan_amount: integer (nullable = true)\n",
            " |-- funded_amnt: integer (nullable = true)\n",
            " |-- funded_amnt_inv: double (nullable = true)\n",
            " |-- term: string (nullable = true)\n",
            " |-- int_rate: string (nullable = true)\n",
            " |-- installment: double (nullable = true)\n",
            " |-- grade: string (nullable = true)\n",
            " |-- sub_grade: string (nullable = true)\n",
            " |-- emp_title: string (nullable = true)\n",
            " |-- emp_length: string (nullable = true)\n",
            " |-- home_ownership: string (nullable = true)\n",
            " |-- annual_income: double (nullable = true)\n",
            " |-- verification_status: string (nullable = true)\n",
            " |-- issue_d: string (nullable = true)\n",
            " |-- loan_status: string (nullable = true)\n",
            " |-- payment_plan: string (nullable = true)\n",
            " |-- purpose: string (nullable = true)\n",
            " |-- title: string (nullable = true)\n",
            " |-- zip_code: string (nullable = true)\n",
            " |-- addr_state: string (nullable = true)\n",
            " |-- dti: string (nullable = true)\n",
            " |-- delinq_2yrs: string (nullable = true)\n",
            " |-- earliest_cr_line: string (nullable = true)\n",
            " |-- inq_last_6mths: string (nullable = true)\n",
            " |-- mths_since_last_delinq: string (nullable = true)\n",
            " |-- mths_since_last_record: string (nullable = true)\n",
            " |-- open_acc: string (nullable = true)\n",
            " |-- pub_rec: string (nullable = true)\n",
            " |-- revol_bal: string (nullable = true)\n",
            " |-- revol_util: string (nullable = true)\n",
            " |-- total_acc: string (nullable = true)\n",
            " |-- initial_list_status: string (nullable = true)\n",
            " |-- out_prncp: string (nullable = true)\n",
            " |-- out_prncp_inv: string (nullable = true)\n",
            " |-- total_pymnt: string (nullable = true)\n",
            " |-- total_pymnt_inv: string (nullable = true)\n",
            " |-- total_rec_prncp: string (nullable = true)\n",
            " |-- total_rec_int: string (nullable = true)\n",
            " |-- total_rec_late_fee: string (nullable = true)\n",
            " |-- recoveries: string (nullable = true)\n",
            " |-- collection_recovery_fee: string (nullable = true)\n",
            " |-- last_pymnt_d: string (nullable = true)\n",
            " |-- last_pymnt_amnt: string (nullable = true)\n",
            " |-- next_pymnt_d: string (nullable = true)\n",
            " |-- last_credit_pull_d: string (nullable = true)\n",
            " |-- collections_12_mths_ex_med: string (nullable = true)\n",
            " |-- mths_since_last_major_derog: string (nullable = true)\n",
            " |-- policy_code: string (nullable = true)\n",
            " |-- application_type: string (nullable = true)\n",
            " |-- annual_inc_joint: string (nullable = true)\n",
            " |-- dti_joint: string (nullable = true)\n",
            " |-- verification_status_joint: string (nullable = true)\n",
            " |-- acc_now_delinq: string (nullable = true)\n",
            " |-- tot_coll_amt: string (nullable = true)\n",
            " |-- tot_cur_bal: string (nullable = true)\n",
            " |-- open_acc_6m: string (nullable = true)\n",
            " |-- open_il_6m: string (nullable = true)\n",
            " |-- open_il_12m: string (nullable = true)\n",
            " |-- open_il_24m: string (nullable = true)\n",
            " |-- mths_since_rcnt_il: string (nullable = true)\n",
            " |-- total_bal_il: string (nullable = true)\n",
            " |-- il_util: string (nullable = true)\n",
            " |-- open_rv_12m: string (nullable = true)\n",
            " |-- open_rv_24m: string (nullable = true)\n",
            " |-- max_bal_bc: string (nullable = true)\n",
            " |-- all_util: string (nullable = true)\n",
            " |-- total_rev_hi_lim: string (nullable = true)\n",
            " |-- inq_fi: string (nullable = true)\n",
            " |-- total_cu_tl: string (nullable = true)\n",
            " |-- inq_last_12m: integer (nullable = true)\n",
            " |-- acc_open_past_24mths: integer (nullable = true)\n",
            " |-- avg_cur_bal: string (nullable = true)\n",
            " |-- bc_open_to_buy: integer (nullable = true)\n",
            " |-- bc_util: string (nullable = true)\n",
            " |-- chargeoff_within_12_mths: integer (nullable = true)\n",
            " |-- delinq_amnt: integer (nullable = true)\n",
            " |-- mo_sin_old_il_acct: integer (nullable = true)\n",
            " |-- mo_sin_old_rev_tl_op: integer (nullable = true)\n",
            " |-- mo_sin_rcnt_rev_tl_op: integer (nullable = true)\n",
            " |-- mo_sin_rcnt_tl: integer (nullable = true)\n",
            " |-- mort_acc: integer (nullable = true)\n",
            " |-- mths_since_recent_bc: integer (nullable = true)\n",
            " |-- mths_since_recent_bc_dlq: integer (nullable = true)\n",
            " |-- mths_since_recent_inq: integer (nullable = true)\n",
            " |-- mths_since_recent_revol_delinq: integer (nullable = true)\n",
            " |-- num_accts_ever_120_pd: integer (nullable = true)\n",
            " |-- num_actv_bc_tl: integer (nullable = true)\n",
            " |-- num_actv_rev_tl: integer (nullable = true)\n",
            " |-- num_bc_sats: integer (nullable = true)\n",
            " |-- num_bc_tl: integer (nullable = true)\n",
            " |-- num_il_tl: integer (nullable = true)\n",
            " |-- num_op_rev_tl: integer (nullable = true)\n",
            " |-- num_rev_accts: integer (nullable = true)\n",
            " |-- num_rev_tl_bal_gt_0: integer (nullable = true)\n",
            " |-- num_sats: integer (nullable = true)\n",
            " |-- num_tl_120dpd_2m: integer (nullable = true)\n",
            " |-- num_tl_30dpd: string (nullable = true)\n",
            " |-- num_tl_90g_dpd_24m: integer (nullable = true)\n",
            " |-- num_tl_op_past_12m: integer (nullable = true)\n",
            " |-- pct_tl_nvr_dlq: string (nullable = true)\n",
            " |-- percent_bc_gt_75: string (nullable = true)\n",
            " |-- pub_rec_bankruptcies: integer (nullable = true)\n",
            " |-- tax_liens: integer (nullable = true)\n",
            " |-- tot_hi_cred_lim: integer (nullable = true)\n",
            " |-- total_bal_ex_mort: integer (nullable = true)\n",
            " |-- total_bc_limit: integer (nullable = true)\n",
            " |-- total_il_high_credit_limit: integer (nullable = true)\n",
            " |-- type: string (nullable = false)\n",
            " |-- loan_type: string (nullable = false)\n",
            " |-- dti_ratio: double (nullable = true)\n",
            " |-- dti_ratio_type: string (nullable = false)\n",
            "\n"
          ]
        }
      ]
    },
    {
      "cell_type": "markdown",
      "source": [
        "## **4.7 Aggregation**\n",
        "\n",
        "Mirip dengan klausa \"GROUP BY\" dalam SQL, fungsi <code>groupBy()</code> dalam Spark digunakan untuk mengumpulkan data yang identik ke dalam kelompok pada DataFrame/Dataset dan melakukan fungsi agregasi pada data yang dikelompokkan\n",
        "\n",
        "* <code>count()</code> - Menghitung jumlah data\n",
        "* <code>mean()</code> - Menghitung rataan data\n",
        "* <code>max()</code> - Menghitung nilai maksimum\n",
        "* <code>min()</code> - Menghitung nilai minimum\n",
        "* <code>sum()</code> - Menghitung total data\n",
        "\n",
        "* agg() - Using agg() function, we can calculate more than one aggregate at a time.\n",
        "\n"
      ],
      "metadata": {
        "id": "qyHWjTfkns1y"
      }
    },
    {
      "cell_type": "markdown",
      "source": [
        "> <b>Quest 10</b> : Pada data loan, hitung rata-rata annual income tiap grade, kemudian urutkan berdasarkan annual income paling tinggi ke rendah!"
      ],
      "metadata": {
        "id": "2vUdqkSFm98j"
      }
    },
    {
      "cell_type": "code",
      "source": [
        "# Import library untuk memanggil fungsi agregasi\n",
        "from pyspark.sql.functions import *\n",
        "\n",
        "# Proses agregasi\n",
        "data_loan\\\n",
        "  .groupBy('grade')\\\n",
        "  .agg(avg(col('annual_income')).alias('rataan_income'))\\\n",
        "  .orderBy('rataan_income', ascending = False)\\\n",
        "  .show()"
      ],
      "metadata": {
        "id": "uaTRr5LapGPy",
        "colab": {
          "base_uri": "https://localhost:8080/"
        },
        "outputId": "c56e0c9d-a337-4a6d-c953-9125c5686e98"
      },
      "execution_count": null,
      "outputs": [
        {
          "output_type": "stream",
          "name": "stdout",
          "text": [
            "+-----+-------------+\n",
            "|grade|rataan_income|\n",
            "+-----+-------------+\n",
            "|    G|     94386.47|\n",
            "|    F|     84602.27|\n",
            "|    E|     77989.41|\n",
            "|    D|     68524.87|\n",
            "|    C|      67939.2|\n",
            "|    B|     67639.96|\n",
            "|    A|     66648.85|\n",
            "+-----+-------------+\n",
            "\n"
          ]
        }
      ]
    },
    {
      "cell_type": "markdown",
      "source": [
        "> <b>Quest 11</b> : Pada data loan, hitung rata-rata annual income dan rata-rata loan amount tiap grade, kemudian urutkan berdasarkan annual income paling tinggi ke rendah!"
      ],
      "metadata": {
        "id": "UGnLdMhlrppe"
      }
    },
    {
      "cell_type": "code",
      "source": [
        "# Import library untuk memanggil fungsi agregasi\n",
        "from pyspark.sql.functions import *\n",
        "\n",
        "# Proses agregasi\n",
        "data_loan\\\n",
        "  .groupBy('grade')\\\n",
        "  .agg(avg(col('annual_income')).alias('rataan_income'),\n",
        "       avg(col('loan_amount')).alias('rataan_loan_amt'))\\\n",
        "  .orderBy('rataan_income', ascending = False)\\\n",
        "  .show()"
      ],
      "metadata": {
        "colab": {
          "base_uri": "https://localhost:8080/"
        },
        "id": "1OoqAJsDvMGK",
        "outputId": "bb056aca-c6d1-4e4d-9bb9-85205e73f2d5"
      },
      "execution_count": null,
      "outputs": [
        {
          "output_type": "stream",
          "name": "stdout",
          "text": [
            "+-----+-------------+---------------+\n",
            "|grade|rataan_income|rataan_loan_amt|\n",
            "+-----+-------------+---------------+\n",
            "|    G|     94386.47|       20226.82|\n",
            "|    F|     84602.27|        18363.3|\n",
            "|    E|     77989.41|       15847.26|\n",
            "|    D|     68524.87|        12278.2|\n",
            "|    C|      67939.2|       11004.67|\n",
            "|    B|     67639.96|       11119.08|\n",
            "|    A|     66648.85|        8624.93|\n",
            "+-----+-------------+---------------+\n",
            "\n"
          ]
        }
      ]
    },
    {
      "cell_type": "markdown",
      "source": [
        "# **5. Intro Data Visualization**\n",
        "\n",
        "Visualisasi data adalah representasi grafis atau grafik dari informasi atau data. Hal ini dilakukan untuk membantu menyajikan dan memahami data dengan lebih baik melalui elemen visual seperti grafik, diagram, peta, atau grafik lainnya.\n",
        "\n",
        "Tujuan : mempermudah analisis, identifikasi pola, tren, atau hubungan dalam data, serta untuk menjelaskan dan mengkomunikasikan temuan kepada orang lain dengan cara yang lebih jelas dan mudah dipahami.\n",
        "\n",
        "Beberapa library visualisasi data belum mensupport tipe data DataFrame spark dalam proses inputannya. Alternatifnya bisa mengubah DataFrame Spark menjadi DataFrame Pandas (library untuk olah data juga yang sangat terkenal). Eksekusi sintaks :     \n",
        "\n",
        "```\n",
        "SparkDataFrame.toPandas()\n",
        "```\n",
        "\n",
        "Untuk mengubah dataframe spark menjadi dataframe pandas\n",
        "\n",
        "docs : https://spark.apache.org/docs/latest/api/python/reference/pyspark.sql/api/pyspark.sql.DataFrame.toPandas.html"
      ],
      "metadata": {
        "id": "mCM3Qz6U_bq8"
      }
    },
    {
      "cell_type": "markdown",
      "source": [
        "> <b>Quest 12</b> : Pada data loan, hitung rata-rata annual income tiap grade, kemudian visualisasikan hasil perhitungan tersebut!"
      ],
      "metadata": {
        "id": "ZcIYUhEcA74h"
      }
    },
    {
      "cell_type": "code",
      "source": [
        "# Import library untuk memanggil fungsi agregasi\n",
        "from pyspark.sql.functions import *\n",
        "\n",
        "# Proses agregasi\n",
        "ann_inc_per_grade = data_loan\\\n",
        "  .groupBy('grade')\\\n",
        "  .agg(avg(col('annual_income')).alias('rataan_income'))\\\n",
        "  .orderBy('rataan_income', ascending = True)\n",
        "\n",
        "print(ann_inc_per_grade)"
      ],
      "metadata": {
        "colab": {
          "base_uri": "https://localhost:8080/"
        },
        "id": "mzSsLX5aA248",
        "outputId": "79cf2b1b-1507-4759-fb87-d4728dcc97b3"
      },
      "execution_count": null,
      "outputs": [
        {
          "output_type": "stream",
          "name": "stdout",
          "text": [
            "+-----+-------------+\n",
            "|grade|rataan_income|\n",
            "+-----+-------------+\n",
            "|    A|     66648.85|\n",
            "|    B|     67639.96|\n",
            "|    C|      67939.2|\n",
            "|    D|     68524.87|\n",
            "|    E|     77989.41|\n",
            "|    F|     84602.27|\n",
            "|    G|     94386.47|\n",
            "+-----+-------------+\n",
            "\n"
          ]
        }
      ]
    },
    {
      "cell_type": "code",
      "source": [
        "# Ubah menjadi dataframe pandas\n",
        "ann_inc_per_grade_pandas = ann_inc_per_grade.toPandas()\n",
        "\n",
        "# Periksa hasil\n",
        "print(f'Type Data sebelum konversi : {type(ann_inc_per_grade)}')\n",
        "print(f'Type Data setelah konversi : {type(ann_inc_per_grade_pandas)}')"
      ],
      "metadata": {
        "colab": {
          "base_uri": "https://localhost:8080/"
        },
        "id": "nrgiSxLPBNrS",
        "outputId": "530ff2ef-43e2-4308-fbbf-af77a11d75b6"
      },
      "execution_count": null,
      "outputs": [
        {
          "output_type": "stream",
          "name": "stdout",
          "text": [
            "Type Data sebelum konversi : <class 'pyspark.sql.dataframe.DataFrame'>\n",
            "Type Data setelah konversi : <class 'pandas.core.frame.DataFrame'>\n"
          ]
        }
      ]
    },
    {
      "cell_type": "markdown",
      "source": [
        "Untuk membuat visualisasi data pada Python dapat menggunakan berbagai library yang tersedia seperti matplotlib, seaborn, plotly, dll. Namun kali ini akan dipilih library plotly untuk melakukan visualisasi data\n",
        "\n",
        "Plotly adalah sebuah library grafik interaktif yang dapat digunakan dengan berbagai bahasa pemrograman, termasuk Python. Plotly menyediakan fungsi-fungsi dan kelas-kelas untuk membuat beragam jenis grafik dan visualisasi data dengan mudah seperti <i>line plots, scatter plots, area charts, bar charts, error bars, box plots, histograms, heatmaps, subplots, multiple-axes, polar charts,</i> dan <i>bubble charts</i>.\n",
        "\n",
        "docs : https://plotly.com/python/"
      ],
      "metadata": {
        "id": "9BSdiC-SDcaf"
      }
    },
    {
      "cell_type": "code",
      "source": [
        "# Import library visualisasi data\n",
        "import plotly.express as px\n",
        "\n",
        "# Plot bar chart\n",
        "fig = px.bar(\n",
        "    ann_inc_per_grade_pandas,\n",
        "    x = 'rataan_income',\n",
        "    y = 'grade',\n",
        "    orientation = 'h',\n",
        "    text_auto = True,\n",
        "    text = 'rataan_income'\n",
        ")\n",
        "\n",
        "# Konfigurasi tampilan\n",
        "fig.update_layout(\n",
        "    width = 800,\n",
        "    height = 500,\n",
        "    title = dict(\n",
        "        text = '<b>Rata-rata Annual Income per Grade Status</b>',\n",
        "        font = dict(\n",
        "            size = 25\n",
        "        )\n",
        "    ),\n",
        "    xaxis_title = '',\n",
        "    yaxis_title = '',\n",
        "    showlegend = False,\n",
        "    paper_bgcolor = 'rgb(255, 255, 255, 1)',\n",
        "    plot_bgcolor = 'rgb(255, 255, 255, 0)',\n",
        "    xaxis_showticklabels = False\n",
        ")\n",
        "\n",
        "fig.update_traces(\n",
        "    texttemplate='%{text}',\n",
        "    textposition='inside'\n",
        ")\n",
        "\n",
        "# Tampilkan grafik\n",
        "fig.show()"
      ],
      "metadata": {
        "colab": {
          "base_uri": "https://localhost:8080/",
          "height": 517
        },
        "id": "94jCYwK_7WUp",
        "outputId": "b946948b-f07b-417d-d608-871b99878c77"
      },
      "execution_count": null,
      "outputs": [
        {
          "output_type": "display_data",
          "data": {
            "text/html": [
              "<html>\n",
              "<head><meta charset=\"utf-8\" /></head>\n",
              "<body>\n",
              "    <div>            <script src=\"https://cdnjs.cloudflare.com/ajax/libs/mathjax/2.7.5/MathJax.js?config=TeX-AMS-MML_SVG\"></script><script type=\"text/javascript\">if (window.MathJax && window.MathJax.Hub && window.MathJax.Hub.Config) {window.MathJax.Hub.Config({SVG: {font: \"STIX-Web\"}});}</script>                <script type=\"text/javascript\">window.PlotlyConfig = {MathJaxConfig: 'local'};</script>\n",
              "        <script charset=\"utf-8\" src=\"https://cdn.plot.ly/plotly-2.24.1.min.js\"></script>                <div id=\"ff823a84-2ea9-4015-8313-7b3d885b86c2\" class=\"plotly-graph-div\" style=\"height:500px; width:800px;\"></div>            <script type=\"text/javascript\">                                    window.PLOTLYENV=window.PLOTLYENV || {};                                    if (document.getElementById(\"ff823a84-2ea9-4015-8313-7b3d885b86c2\")) {                    Plotly.newPlot(                        \"ff823a84-2ea9-4015-8313-7b3d885b86c2\",                        [{\"alignmentgroup\":\"True\",\"hovertemplate\":\"rataan_income=%{text}\\u003cbr\\u003egrade=%{y}\\u003cextra\\u003e\\u003c\\u002fextra\\u003e\",\"legendgroup\":\"\",\"marker\":{\"color\":\"#636efa\",\"pattern\":{\"shape\":\"\"}},\"name\":\"\",\"offsetgroup\":\"\",\"orientation\":\"h\",\"showlegend\":false,\"text\":[66648.85,67639.96,67939.2,68524.87,77989.41,84602.27,94386.47],\"textposition\":\"inside\",\"texttemplate\":\"%{text}\",\"x\":[66648.85,67639.96,67939.2,68524.87,77989.41,84602.27,94386.47],\"xaxis\":\"x\",\"y\":[\"A\",\"B\",\"C\",\"D\",\"E\",\"F\",\"G\"],\"yaxis\":\"y\",\"type\":\"bar\"}],                        {\"template\":{\"data\":{\"histogram2dcontour\":[{\"type\":\"histogram2dcontour\",\"colorbar\":{\"outlinewidth\":0,\"ticks\":\"\"},\"colorscale\":[[0.0,\"#0d0887\"],[0.1111111111111111,\"#46039f\"],[0.2222222222222222,\"#7201a8\"],[0.3333333333333333,\"#9c179e\"],[0.4444444444444444,\"#bd3786\"],[0.5555555555555556,\"#d8576b\"],[0.6666666666666666,\"#ed7953\"],[0.7777777777777778,\"#fb9f3a\"],[0.8888888888888888,\"#fdca26\"],[1.0,\"#f0f921\"]]}],\"choropleth\":[{\"type\":\"choropleth\",\"colorbar\":{\"outlinewidth\":0,\"ticks\":\"\"}}],\"histogram2d\":[{\"type\":\"histogram2d\",\"colorbar\":{\"outlinewidth\":0,\"ticks\":\"\"},\"colorscale\":[[0.0,\"#0d0887\"],[0.1111111111111111,\"#46039f\"],[0.2222222222222222,\"#7201a8\"],[0.3333333333333333,\"#9c179e\"],[0.4444444444444444,\"#bd3786\"],[0.5555555555555556,\"#d8576b\"],[0.6666666666666666,\"#ed7953\"],[0.7777777777777778,\"#fb9f3a\"],[0.8888888888888888,\"#fdca26\"],[1.0,\"#f0f921\"]]}],\"heatmap\":[{\"type\":\"heatmap\",\"colorbar\":{\"outlinewidth\":0,\"ticks\":\"\"},\"colorscale\":[[0.0,\"#0d0887\"],[0.1111111111111111,\"#46039f\"],[0.2222222222222222,\"#7201a8\"],[0.3333333333333333,\"#9c179e\"],[0.4444444444444444,\"#bd3786\"],[0.5555555555555556,\"#d8576b\"],[0.6666666666666666,\"#ed7953\"],[0.7777777777777778,\"#fb9f3a\"],[0.8888888888888888,\"#fdca26\"],[1.0,\"#f0f921\"]]}],\"heatmapgl\":[{\"type\":\"heatmapgl\",\"colorbar\":{\"outlinewidth\":0,\"ticks\":\"\"},\"colorscale\":[[0.0,\"#0d0887\"],[0.1111111111111111,\"#46039f\"],[0.2222222222222222,\"#7201a8\"],[0.3333333333333333,\"#9c179e\"],[0.4444444444444444,\"#bd3786\"],[0.5555555555555556,\"#d8576b\"],[0.6666666666666666,\"#ed7953\"],[0.7777777777777778,\"#fb9f3a\"],[0.8888888888888888,\"#fdca26\"],[1.0,\"#f0f921\"]]}],\"contourcarpet\":[{\"type\":\"contourcarpet\",\"colorbar\":{\"outlinewidth\":0,\"ticks\":\"\"}}],\"contour\":[{\"type\":\"contour\",\"colorbar\":{\"outlinewidth\":0,\"ticks\":\"\"},\"colorscale\":[[0.0,\"#0d0887\"],[0.1111111111111111,\"#46039f\"],[0.2222222222222222,\"#7201a8\"],[0.3333333333333333,\"#9c179e\"],[0.4444444444444444,\"#bd3786\"],[0.5555555555555556,\"#d8576b\"],[0.6666666666666666,\"#ed7953\"],[0.7777777777777778,\"#fb9f3a\"],[0.8888888888888888,\"#fdca26\"],[1.0,\"#f0f921\"]]}],\"surface\":[{\"type\":\"surface\",\"colorbar\":{\"outlinewidth\":0,\"ticks\":\"\"},\"colorscale\":[[0.0,\"#0d0887\"],[0.1111111111111111,\"#46039f\"],[0.2222222222222222,\"#7201a8\"],[0.3333333333333333,\"#9c179e\"],[0.4444444444444444,\"#bd3786\"],[0.5555555555555556,\"#d8576b\"],[0.6666666666666666,\"#ed7953\"],[0.7777777777777778,\"#fb9f3a\"],[0.8888888888888888,\"#fdca26\"],[1.0,\"#f0f921\"]]}],\"mesh3d\":[{\"type\":\"mesh3d\",\"colorbar\":{\"outlinewidth\":0,\"ticks\":\"\"}}],\"scatter\":[{\"fillpattern\":{\"fillmode\":\"overlay\",\"size\":10,\"solidity\":0.2},\"type\":\"scatter\"}],\"parcoords\":[{\"type\":\"parcoords\",\"line\":{\"colorbar\":{\"outlinewidth\":0,\"ticks\":\"\"}}}],\"scatterpolargl\":[{\"type\":\"scatterpolargl\",\"marker\":{\"colorbar\":{\"outlinewidth\":0,\"ticks\":\"\"}}}],\"bar\":[{\"error_x\":{\"color\":\"#2a3f5f\"},\"error_y\":{\"color\":\"#2a3f5f\"},\"marker\":{\"line\":{\"color\":\"#E5ECF6\",\"width\":0.5},\"pattern\":{\"fillmode\":\"overlay\",\"size\":10,\"solidity\":0.2}},\"type\":\"bar\"}],\"scattergeo\":[{\"type\":\"scattergeo\",\"marker\":{\"colorbar\":{\"outlinewidth\":0,\"ticks\":\"\"}}}],\"scatterpolar\":[{\"type\":\"scatterpolar\",\"marker\":{\"colorbar\":{\"outlinewidth\":0,\"ticks\":\"\"}}}],\"histogram\":[{\"marker\":{\"pattern\":{\"fillmode\":\"overlay\",\"size\":10,\"solidity\":0.2}},\"type\":\"histogram\"}],\"scattergl\":[{\"type\":\"scattergl\",\"marker\":{\"colorbar\":{\"outlinewidth\":0,\"ticks\":\"\"}}}],\"scatter3d\":[{\"type\":\"scatter3d\",\"line\":{\"colorbar\":{\"outlinewidth\":0,\"ticks\":\"\"}},\"marker\":{\"colorbar\":{\"outlinewidth\":0,\"ticks\":\"\"}}}],\"scattermapbox\":[{\"type\":\"scattermapbox\",\"marker\":{\"colorbar\":{\"outlinewidth\":0,\"ticks\":\"\"}}}],\"scatterternary\":[{\"type\":\"scatterternary\",\"marker\":{\"colorbar\":{\"outlinewidth\":0,\"ticks\":\"\"}}}],\"scattercarpet\":[{\"type\":\"scattercarpet\",\"marker\":{\"colorbar\":{\"outlinewidth\":0,\"ticks\":\"\"}}}],\"carpet\":[{\"aaxis\":{\"endlinecolor\":\"#2a3f5f\",\"gridcolor\":\"white\",\"linecolor\":\"white\",\"minorgridcolor\":\"white\",\"startlinecolor\":\"#2a3f5f\"},\"baxis\":{\"endlinecolor\":\"#2a3f5f\",\"gridcolor\":\"white\",\"linecolor\":\"white\",\"minorgridcolor\":\"white\",\"startlinecolor\":\"#2a3f5f\"},\"type\":\"carpet\"}],\"table\":[{\"cells\":{\"fill\":{\"color\":\"#EBF0F8\"},\"line\":{\"color\":\"white\"}},\"header\":{\"fill\":{\"color\":\"#C8D4E3\"},\"line\":{\"color\":\"white\"}},\"type\":\"table\"}],\"barpolar\":[{\"marker\":{\"line\":{\"color\":\"#E5ECF6\",\"width\":0.5},\"pattern\":{\"fillmode\":\"overlay\",\"size\":10,\"solidity\":0.2}},\"type\":\"barpolar\"}],\"pie\":[{\"automargin\":true,\"type\":\"pie\"}]},\"layout\":{\"autotypenumbers\":\"strict\",\"colorway\":[\"#636efa\",\"#EF553B\",\"#00cc96\",\"#ab63fa\",\"#FFA15A\",\"#19d3f3\",\"#FF6692\",\"#B6E880\",\"#FF97FF\",\"#FECB52\"],\"font\":{\"color\":\"#2a3f5f\"},\"hovermode\":\"closest\",\"hoverlabel\":{\"align\":\"left\"},\"paper_bgcolor\":\"white\",\"plot_bgcolor\":\"#E5ECF6\",\"polar\":{\"bgcolor\":\"#E5ECF6\",\"angularaxis\":{\"gridcolor\":\"white\",\"linecolor\":\"white\",\"ticks\":\"\"},\"radialaxis\":{\"gridcolor\":\"white\",\"linecolor\":\"white\",\"ticks\":\"\"}},\"ternary\":{\"bgcolor\":\"#E5ECF6\",\"aaxis\":{\"gridcolor\":\"white\",\"linecolor\":\"white\",\"ticks\":\"\"},\"baxis\":{\"gridcolor\":\"white\",\"linecolor\":\"white\",\"ticks\":\"\"},\"caxis\":{\"gridcolor\":\"white\",\"linecolor\":\"white\",\"ticks\":\"\"}},\"coloraxis\":{\"colorbar\":{\"outlinewidth\":0,\"ticks\":\"\"}},\"colorscale\":{\"sequential\":[[0.0,\"#0d0887\"],[0.1111111111111111,\"#46039f\"],[0.2222222222222222,\"#7201a8\"],[0.3333333333333333,\"#9c179e\"],[0.4444444444444444,\"#bd3786\"],[0.5555555555555556,\"#d8576b\"],[0.6666666666666666,\"#ed7953\"],[0.7777777777777778,\"#fb9f3a\"],[0.8888888888888888,\"#fdca26\"],[1.0,\"#f0f921\"]],\"sequentialminus\":[[0.0,\"#0d0887\"],[0.1111111111111111,\"#46039f\"],[0.2222222222222222,\"#7201a8\"],[0.3333333333333333,\"#9c179e\"],[0.4444444444444444,\"#bd3786\"],[0.5555555555555556,\"#d8576b\"],[0.6666666666666666,\"#ed7953\"],[0.7777777777777778,\"#fb9f3a\"],[0.8888888888888888,\"#fdca26\"],[1.0,\"#f0f921\"]],\"diverging\":[[0,\"#8e0152\"],[0.1,\"#c51b7d\"],[0.2,\"#de77ae\"],[0.3,\"#f1b6da\"],[0.4,\"#fde0ef\"],[0.5,\"#f7f7f7\"],[0.6,\"#e6f5d0\"],[0.7,\"#b8e186\"],[0.8,\"#7fbc41\"],[0.9,\"#4d9221\"],[1,\"#276419\"]]},\"xaxis\":{\"gridcolor\":\"white\",\"linecolor\":\"white\",\"ticks\":\"\",\"title\":{\"standoff\":15},\"zerolinecolor\":\"white\",\"automargin\":true,\"zerolinewidth\":2},\"yaxis\":{\"gridcolor\":\"white\",\"linecolor\":\"white\",\"ticks\":\"\",\"title\":{\"standoff\":15},\"zerolinecolor\":\"white\",\"automargin\":true,\"zerolinewidth\":2},\"scene\":{\"xaxis\":{\"backgroundcolor\":\"#E5ECF6\",\"gridcolor\":\"white\",\"linecolor\":\"white\",\"showbackground\":true,\"ticks\":\"\",\"zerolinecolor\":\"white\",\"gridwidth\":2},\"yaxis\":{\"backgroundcolor\":\"#E5ECF6\",\"gridcolor\":\"white\",\"linecolor\":\"white\",\"showbackground\":true,\"ticks\":\"\",\"zerolinecolor\":\"white\",\"gridwidth\":2},\"zaxis\":{\"backgroundcolor\":\"#E5ECF6\",\"gridcolor\":\"white\",\"linecolor\":\"white\",\"showbackground\":true,\"ticks\":\"\",\"zerolinecolor\":\"white\",\"gridwidth\":2}},\"shapedefaults\":{\"line\":{\"color\":\"#2a3f5f\"}},\"annotationdefaults\":{\"arrowcolor\":\"#2a3f5f\",\"arrowhead\":0,\"arrowwidth\":1},\"geo\":{\"bgcolor\":\"white\",\"landcolor\":\"#E5ECF6\",\"subunitcolor\":\"white\",\"showland\":true,\"showlakes\":true,\"lakecolor\":\"white\"},\"title\":{\"x\":0.05},\"mapbox\":{\"style\":\"light\"}}},\"xaxis\":{\"anchor\":\"y\",\"domain\":[0.0,1.0],\"title\":{\"text\":\"\"},\"showticklabels\":false},\"yaxis\":{\"anchor\":\"x\",\"domain\":[0.0,1.0],\"title\":{\"text\":\"\"}},\"legend\":{\"tracegroupgap\":0},\"margin\":{\"t\":60},\"barmode\":\"relative\",\"title\":{\"font\":{\"size\":25},\"text\":\"\\u003cb\\u003eRata-rata Annual Income per Grade Status\\u003c\\u002fb\\u003e\"},\"width\":800,\"height\":500,\"showlegend\":false,\"paper_bgcolor\":\"rgb(255, 255, 255, 1)\",\"plot_bgcolor\":\"rgb(255, 255, 255, 0)\"},                        {\"responsive\": true}                    ).then(function(){\n",
              "                            \n",
              "var gd = document.getElementById('ff823a84-2ea9-4015-8313-7b3d885b86c2');\n",
              "var x = new MutationObserver(function (mutations, observer) {{\n",
              "        var display = window.getComputedStyle(gd).display;\n",
              "        if (!display || display === 'none') {{\n",
              "            console.log([gd, 'removed!']);\n",
              "            Plotly.purge(gd);\n",
              "            observer.disconnect();\n",
              "        }}\n",
              "}});\n",
              "\n",
              "// Listen for the removal of the full notebook cells\n",
              "var notebookContainer = gd.closest('#notebook-container');\n",
              "if (notebookContainer) {{\n",
              "    x.observe(notebookContainer, {childList: true});\n",
              "}}\n",
              "\n",
              "// Listen for the clearing of the current output cell\n",
              "var outputEl = gd.closest('.output');\n",
              "if (outputEl) {{\n",
              "    x.observe(outputEl, {childList: true});\n",
              "}}\n",
              "\n",
              "                        })                };                            </script>        </div>\n",
              "</body>\n",
              "</html>"
            ]
          },
          "metadata": {}
        }
      ]
    }
  ]
}